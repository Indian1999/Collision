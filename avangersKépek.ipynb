{
  "nbformat": 4,
  "nbformat_minor": 0,
  "metadata": {
    "colab": {
      "provenance": [],
      "gpuType": "T4",
      "authorship_tag": "ABX9TyNReIrcxhGuCQzhv38Ecw4T",
      "include_colab_link": true
    },
    "kernelspec": {
      "name": "python3",
      "display_name": "Python 3"
    },
    "language_info": {
      "name": "python"
    },
    "accelerator": "GPU"
  },
  "cells": [
    {
      "cell_type": "markdown",
      "metadata": {
        "id": "view-in-github",
        "colab_type": "text"
      },
      "source": [
        "<a href=\"https://colab.research.google.com/github/Indian1999/Collision/blob/main/avangersK%C3%A9pek.ipynb\" target=\"_parent\"><img src=\"https://colab.research.google.com/assets/colab-badge.svg\" alt=\"Open In Colab\"/></a>"
      ]
    },
    {
      "cell_type": "code",
      "execution_count": 1,
      "metadata": {
        "id": "7H4Ok1fqJw9M"
      },
      "outputs": [],
      "source": [
        "import numpy as np\n",
        "import matplotlib.pyplot as plt\n",
        "import os\n",
        "import cv2 as cv\n",
        "\n",
        "from sklearn.preprocessing import LabelBinarizer\n",
        "from sklearn.model_selection import train_test_split\n",
        "\n",
        "from keras.models import Sequential\n",
        "from keras.layers import Conv2D, MaxPooling2D, Activation, Flatten, Dense, Dropout, BatchNormalization\n",
        "from tensorflow.keras.preprocessing.image import ImageDataGenerator"
      ]
    },
    {
      "cell_type": "code",
      "source": [
        "from google.colab import drive\n",
        "drive.mount('/content/drive')"
      ],
      "metadata": {
        "colab": {
          "base_uri": "https://localhost:8080/"
        },
        "id": "ExyRO0qUMZS9",
        "outputId": "8ba854d8-f392-40bf-cc48-c49956de6f61"
      },
      "execution_count": 2,
      "outputs": [
        {
          "output_type": "stream",
          "name": "stdout",
          "text": [
            "Mounted at /content/drive\n"
          ]
        }
      ]
    },
    {
      "cell_type": "code",
      "source": [
        "x = []\n",
        "y = []\n",
        "input_shape = (96, 96, 3)\n",
        "path = \"/content/drive/MyDrive/cropped_images\"\n",
        "for folder in os.listdir(path):\n",
        "    for image in os.listdir(os.path.join(path, folder)):\n",
        "        imgpath = os.path.join(path, folder, image)\n",
        "        img = cv.imread(imgpath)\n",
        "        img = cv.resize(img, (input_shape[0], input_shape[1]))\n",
        "        x.append(img)\n",
        "        y.append(folder)\n",
        "x = np.array(x) / 255.0 #0 és 1 közé normalizáljuk az adatokat\n",
        "y = np.array(y)\n",
        "\n",
        "names = np.unique(y)\n",
        "print(names)\n",
        "lb = LabelBinarizer()\n",
        "y = lb.fit_transform(y)\n",
        "print(y[50])"
      ],
      "metadata": {
        "colab": {
          "base_uri": "https://localhost:8080/"
        },
        "id": "H1tstwd4Nls0",
        "outputId": "3c9745e3-59bd-481e-c98a-2bc7f2bcbf2a"
      },
      "execution_count": 4,
      "outputs": [
        {
          "output_type": "stream",
          "name": "stdout",
          "text": [
            "['chris_evans' 'chris_hemsworth' 'mark_ruffalo' 'robert_downey_jr'\n",
            " 'scarlett_johansson']\n",
            "[0 0 0 1 0]\n"
          ]
        }
      ]
    },
    {
      "cell_type": "code",
      "source": [
        "#Train Test Split\n",
        "x, test_x, y, test_y = train_test_split(x, y, test_size=0.1, random_state=42)\n",
        "train_x, val_x, train_y, val_y = train_test_split(x, y, test_size=0.2, random_state=42)"
      ],
      "metadata": {
        "id": "lfWfOBh-R4na"
      },
      "execution_count": 5,
      "outputs": []
    },
    {
      "cell_type": "code",
      "source": [
        "#Generáljunk további képeket\n",
        "datagen = ImageDataGenerator(\n",
        "    rotation_range = 45,\n",
        "    width_shift_range = 0.1,\n",
        "    height_shift_range = 0.1,\n",
        "    zoom_range = 0.2,\n",
        "    horizontal_flip = True,\n",
        "    vertical_flip = False,\n",
        "    validation_split = 0.2\n",
        ")"
      ],
      "metadata": {
        "id": "AZKQNqL6TF-o"
      },
      "execution_count": 17,
      "outputs": []
    },
    {
      "cell_type": "code",
      "source": [
        "model = Sequential()\n",
        "# 96*96*3\n",
        "model.add(Conv2D(32, 3, input_shape=input_shape, activation='relu')) #94*94*3*32\n",
        "model.add(MaxPooling2D(3)) # 31*31*3*32\n",
        "model.add(Dropout(0.25))\n",
        "\n",
        "\n",
        "model.add(Conv2D(64, 3, activation='relu', padding='same'))\n",
        "model.add(Conv2D(64, 3, activation='relu', padding='same'))\n",
        "model.add(MaxPooling2D(2))\n",
        "model.add(Dropout(0.25))\n",
        "\n",
        "model.add(Conv2D(128, 3, activation='relu', padding='same'))\n",
        "model.add(Conv2D(128, 2, activation='relu', padding='same'))\n",
        "model.add(MaxPooling2D(2))\n",
        "model.add(Dropout(0.25))\n",
        "\n",
        "model.add(Flatten())\n",
        "model.add(Dense(1024, activation='relu'))\n",
        "model.add(Dropout(0.5))\n",
        "model.add(Dense(1024, activation='relu'))\n",
        "model.add(Dropout(0.5))\n",
        "model.add(Dense(len(names), activation='softmax'))\n",
        "\n",
        "model.summary()\n"
      ],
      "metadata": {
        "colab": {
          "base_uri": "https://localhost:8080/",
          "height": 673
        },
        "id": "ioLvyhgtVDWY",
        "outputId": "9d57643a-0df2-45f8-f356-8b09bf0e976b",
        "collapsed": true
      },
      "execution_count": 39,
      "outputs": [
        {
          "output_type": "display_data",
          "data": {
            "text/plain": [
              "\u001b[1mModel: \"sequential_9\"\u001b[0m\n"
            ],
            "text/html": [
              "<pre style=\"white-space:pre;overflow-x:auto;line-height:normal;font-family:Menlo,'DejaVu Sans Mono',consolas,'Courier New',monospace\"><span style=\"font-weight: bold\">Model: \"sequential_9\"</span>\n",
              "</pre>\n"
            ]
          },
          "metadata": {}
        },
        {
          "output_type": "display_data",
          "data": {
            "text/plain": [
              "┏━━━━━━━━━━━━━━━━━━━━━━━━━━━━━━━━━━━━━━┳━━━━━━━━━━━━━━━━━━━━━━━━━━━━━┳━━━━━━━━━━━━━━━━━┓\n",
              "┃\u001b[1m \u001b[0m\u001b[1mLayer (type)                        \u001b[0m\u001b[1m \u001b[0m┃\u001b[1m \u001b[0m\u001b[1mOutput Shape               \u001b[0m\u001b[1m \u001b[0m┃\u001b[1m \u001b[0m\u001b[1m        Param #\u001b[0m\u001b[1m \u001b[0m┃\n",
              "┡━━━━━━━━━━━━━━━━━━━━━━━━━━━━━━━━━━━━━━╇━━━━━━━━━━━━━━━━━━━━━━━━━━━━━╇━━━━━━━━━━━━━━━━━┩\n",
              "│ conv2d_46 (\u001b[38;5;33mConv2D\u001b[0m)                   │ (\u001b[38;5;45mNone\u001b[0m, \u001b[38;5;34m94\u001b[0m, \u001b[38;5;34m94\u001b[0m, \u001b[38;5;34m32\u001b[0m)          │             \u001b[38;5;34m896\u001b[0m │\n",
              "├──────────────────────────────────────┼─────────────────────────────┼─────────────────┤\n",
              "│ max_pooling2d_28 (\u001b[38;5;33mMaxPooling2D\u001b[0m)      │ (\u001b[38;5;45mNone\u001b[0m, \u001b[38;5;34m31\u001b[0m, \u001b[38;5;34m31\u001b[0m, \u001b[38;5;34m32\u001b[0m)          │               \u001b[38;5;34m0\u001b[0m │\n",
              "├──────────────────────────────────────┼─────────────────────────────┼─────────────────┤\n",
              "│ dropout_49 (\u001b[38;5;33mDropout\u001b[0m)                 │ (\u001b[38;5;45mNone\u001b[0m, \u001b[38;5;34m31\u001b[0m, \u001b[38;5;34m31\u001b[0m, \u001b[38;5;34m32\u001b[0m)          │               \u001b[38;5;34m0\u001b[0m │\n",
              "├──────────────────────────────────────┼─────────────────────────────┼─────────────────┤\n",
              "│ conv2d_47 (\u001b[38;5;33mConv2D\u001b[0m)                   │ (\u001b[38;5;45mNone\u001b[0m, \u001b[38;5;34m31\u001b[0m, \u001b[38;5;34m31\u001b[0m, \u001b[38;5;34m64\u001b[0m)          │          \u001b[38;5;34m18,496\u001b[0m │\n",
              "├──────────────────────────────────────┼─────────────────────────────┼─────────────────┤\n",
              "│ conv2d_48 (\u001b[38;5;33mConv2D\u001b[0m)                   │ (\u001b[38;5;45mNone\u001b[0m, \u001b[38;5;34m31\u001b[0m, \u001b[38;5;34m31\u001b[0m, \u001b[38;5;34m64\u001b[0m)          │          \u001b[38;5;34m36,928\u001b[0m │\n",
              "├──────────────────────────────────────┼─────────────────────────────┼─────────────────┤\n",
              "│ max_pooling2d_29 (\u001b[38;5;33mMaxPooling2D\u001b[0m)      │ (\u001b[38;5;45mNone\u001b[0m, \u001b[38;5;34m15\u001b[0m, \u001b[38;5;34m15\u001b[0m, \u001b[38;5;34m64\u001b[0m)          │               \u001b[38;5;34m0\u001b[0m │\n",
              "├──────────────────────────────────────┼─────────────────────────────┼─────────────────┤\n",
              "│ dropout_50 (\u001b[38;5;33mDropout\u001b[0m)                 │ (\u001b[38;5;45mNone\u001b[0m, \u001b[38;5;34m15\u001b[0m, \u001b[38;5;34m15\u001b[0m, \u001b[38;5;34m64\u001b[0m)          │               \u001b[38;5;34m0\u001b[0m │\n",
              "├──────────────────────────────────────┼─────────────────────────────┼─────────────────┤\n",
              "│ conv2d_49 (\u001b[38;5;33mConv2D\u001b[0m)                   │ (\u001b[38;5;45mNone\u001b[0m, \u001b[38;5;34m15\u001b[0m, \u001b[38;5;34m15\u001b[0m, \u001b[38;5;34m128\u001b[0m)         │          \u001b[38;5;34m73,856\u001b[0m │\n",
              "├──────────────────────────────────────┼─────────────────────────────┼─────────────────┤\n",
              "│ conv2d_50 (\u001b[38;5;33mConv2D\u001b[0m)                   │ (\u001b[38;5;45mNone\u001b[0m, \u001b[38;5;34m15\u001b[0m, \u001b[38;5;34m15\u001b[0m, \u001b[38;5;34m128\u001b[0m)         │          \u001b[38;5;34m65,664\u001b[0m │\n",
              "├──────────────────────────────────────┼─────────────────────────────┼─────────────────┤\n",
              "│ max_pooling2d_30 (\u001b[38;5;33mMaxPooling2D\u001b[0m)      │ (\u001b[38;5;45mNone\u001b[0m, \u001b[38;5;34m7\u001b[0m, \u001b[38;5;34m7\u001b[0m, \u001b[38;5;34m128\u001b[0m)           │               \u001b[38;5;34m0\u001b[0m │\n",
              "├──────────────────────────────────────┼─────────────────────────────┼─────────────────┤\n",
              "│ dropout_51 (\u001b[38;5;33mDropout\u001b[0m)                 │ (\u001b[38;5;45mNone\u001b[0m, \u001b[38;5;34m7\u001b[0m, \u001b[38;5;34m7\u001b[0m, \u001b[38;5;34m128\u001b[0m)           │               \u001b[38;5;34m0\u001b[0m │\n",
              "├──────────────────────────────────────┼─────────────────────────────┼─────────────────┤\n",
              "│ flatten_9 (\u001b[38;5;33mFlatten\u001b[0m)                  │ (\u001b[38;5;45mNone\u001b[0m, \u001b[38;5;34m6272\u001b[0m)                │               \u001b[38;5;34m0\u001b[0m │\n",
              "├──────────────────────────────────────┼─────────────────────────────┼─────────────────┤\n",
              "│ dense_30 (\u001b[38;5;33mDense\u001b[0m)                     │ (\u001b[38;5;45mNone\u001b[0m, \u001b[38;5;34m1024\u001b[0m)                │       \u001b[38;5;34m6,423,552\u001b[0m │\n",
              "├──────────────────────────────────────┼─────────────────────────────┼─────────────────┤\n",
              "│ dropout_52 (\u001b[38;5;33mDropout\u001b[0m)                 │ (\u001b[38;5;45mNone\u001b[0m, \u001b[38;5;34m1024\u001b[0m)                │               \u001b[38;5;34m0\u001b[0m │\n",
              "├──────────────────────────────────────┼─────────────────────────────┼─────────────────┤\n",
              "│ dense_31 (\u001b[38;5;33mDense\u001b[0m)                     │ (\u001b[38;5;45mNone\u001b[0m, \u001b[38;5;34m1024\u001b[0m)                │       \u001b[38;5;34m1,049,600\u001b[0m │\n",
              "├──────────────────────────────────────┼─────────────────────────────┼─────────────────┤\n",
              "│ dropout_53 (\u001b[38;5;33mDropout\u001b[0m)                 │ (\u001b[38;5;45mNone\u001b[0m, \u001b[38;5;34m1024\u001b[0m)                │               \u001b[38;5;34m0\u001b[0m │\n",
              "├──────────────────────────────────────┼─────────────────────────────┼─────────────────┤\n",
              "│ dense_32 (\u001b[38;5;33mDense\u001b[0m)                     │ (\u001b[38;5;45mNone\u001b[0m, \u001b[38;5;34m5\u001b[0m)                   │           \u001b[38;5;34m5,125\u001b[0m │\n",
              "└──────────────────────────────────────┴─────────────────────────────┴─────────────────┘\n"
            ],
            "text/html": [
              "<pre style=\"white-space:pre;overflow-x:auto;line-height:normal;font-family:Menlo,'DejaVu Sans Mono',consolas,'Courier New',monospace\">┏━━━━━━━━━━━━━━━━━━━━━━━━━━━━━━━━━━━━━━┳━━━━━━━━━━━━━━━━━━━━━━━━━━━━━┳━━━━━━━━━━━━━━━━━┓\n",
              "┃<span style=\"font-weight: bold\"> Layer (type)                         </span>┃<span style=\"font-weight: bold\"> Output Shape                </span>┃<span style=\"font-weight: bold\">         Param # </span>┃\n",
              "┡━━━━━━━━━━━━━━━━━━━━━━━━━━━━━━━━━━━━━━╇━━━━━━━━━━━━━━━━━━━━━━━━━━━━━╇━━━━━━━━━━━━━━━━━┩\n",
              "│ conv2d_46 (<span style=\"color: #0087ff; text-decoration-color: #0087ff\">Conv2D</span>)                   │ (<span style=\"color: #00d7ff; text-decoration-color: #00d7ff\">None</span>, <span style=\"color: #00af00; text-decoration-color: #00af00\">94</span>, <span style=\"color: #00af00; text-decoration-color: #00af00\">94</span>, <span style=\"color: #00af00; text-decoration-color: #00af00\">32</span>)          │             <span style=\"color: #00af00; text-decoration-color: #00af00\">896</span> │\n",
              "├──────────────────────────────────────┼─────────────────────────────┼─────────────────┤\n",
              "│ max_pooling2d_28 (<span style=\"color: #0087ff; text-decoration-color: #0087ff\">MaxPooling2D</span>)      │ (<span style=\"color: #00d7ff; text-decoration-color: #00d7ff\">None</span>, <span style=\"color: #00af00; text-decoration-color: #00af00\">31</span>, <span style=\"color: #00af00; text-decoration-color: #00af00\">31</span>, <span style=\"color: #00af00; text-decoration-color: #00af00\">32</span>)          │               <span style=\"color: #00af00; text-decoration-color: #00af00\">0</span> │\n",
              "├──────────────────────────────────────┼─────────────────────────────┼─────────────────┤\n",
              "│ dropout_49 (<span style=\"color: #0087ff; text-decoration-color: #0087ff\">Dropout</span>)                 │ (<span style=\"color: #00d7ff; text-decoration-color: #00d7ff\">None</span>, <span style=\"color: #00af00; text-decoration-color: #00af00\">31</span>, <span style=\"color: #00af00; text-decoration-color: #00af00\">31</span>, <span style=\"color: #00af00; text-decoration-color: #00af00\">32</span>)          │               <span style=\"color: #00af00; text-decoration-color: #00af00\">0</span> │\n",
              "├──────────────────────────────────────┼─────────────────────────────┼─────────────────┤\n",
              "│ conv2d_47 (<span style=\"color: #0087ff; text-decoration-color: #0087ff\">Conv2D</span>)                   │ (<span style=\"color: #00d7ff; text-decoration-color: #00d7ff\">None</span>, <span style=\"color: #00af00; text-decoration-color: #00af00\">31</span>, <span style=\"color: #00af00; text-decoration-color: #00af00\">31</span>, <span style=\"color: #00af00; text-decoration-color: #00af00\">64</span>)          │          <span style=\"color: #00af00; text-decoration-color: #00af00\">18,496</span> │\n",
              "├──────────────────────────────────────┼─────────────────────────────┼─────────────────┤\n",
              "│ conv2d_48 (<span style=\"color: #0087ff; text-decoration-color: #0087ff\">Conv2D</span>)                   │ (<span style=\"color: #00d7ff; text-decoration-color: #00d7ff\">None</span>, <span style=\"color: #00af00; text-decoration-color: #00af00\">31</span>, <span style=\"color: #00af00; text-decoration-color: #00af00\">31</span>, <span style=\"color: #00af00; text-decoration-color: #00af00\">64</span>)          │          <span style=\"color: #00af00; text-decoration-color: #00af00\">36,928</span> │\n",
              "├──────────────────────────────────────┼─────────────────────────────┼─────────────────┤\n",
              "│ max_pooling2d_29 (<span style=\"color: #0087ff; text-decoration-color: #0087ff\">MaxPooling2D</span>)      │ (<span style=\"color: #00d7ff; text-decoration-color: #00d7ff\">None</span>, <span style=\"color: #00af00; text-decoration-color: #00af00\">15</span>, <span style=\"color: #00af00; text-decoration-color: #00af00\">15</span>, <span style=\"color: #00af00; text-decoration-color: #00af00\">64</span>)          │               <span style=\"color: #00af00; text-decoration-color: #00af00\">0</span> │\n",
              "├──────────────────────────────────────┼─────────────────────────────┼─────────────────┤\n",
              "│ dropout_50 (<span style=\"color: #0087ff; text-decoration-color: #0087ff\">Dropout</span>)                 │ (<span style=\"color: #00d7ff; text-decoration-color: #00d7ff\">None</span>, <span style=\"color: #00af00; text-decoration-color: #00af00\">15</span>, <span style=\"color: #00af00; text-decoration-color: #00af00\">15</span>, <span style=\"color: #00af00; text-decoration-color: #00af00\">64</span>)          │               <span style=\"color: #00af00; text-decoration-color: #00af00\">0</span> │\n",
              "├──────────────────────────────────────┼─────────────────────────────┼─────────────────┤\n",
              "│ conv2d_49 (<span style=\"color: #0087ff; text-decoration-color: #0087ff\">Conv2D</span>)                   │ (<span style=\"color: #00d7ff; text-decoration-color: #00d7ff\">None</span>, <span style=\"color: #00af00; text-decoration-color: #00af00\">15</span>, <span style=\"color: #00af00; text-decoration-color: #00af00\">15</span>, <span style=\"color: #00af00; text-decoration-color: #00af00\">128</span>)         │          <span style=\"color: #00af00; text-decoration-color: #00af00\">73,856</span> │\n",
              "├──────────────────────────────────────┼─────────────────────────────┼─────────────────┤\n",
              "│ conv2d_50 (<span style=\"color: #0087ff; text-decoration-color: #0087ff\">Conv2D</span>)                   │ (<span style=\"color: #00d7ff; text-decoration-color: #00d7ff\">None</span>, <span style=\"color: #00af00; text-decoration-color: #00af00\">15</span>, <span style=\"color: #00af00; text-decoration-color: #00af00\">15</span>, <span style=\"color: #00af00; text-decoration-color: #00af00\">128</span>)         │          <span style=\"color: #00af00; text-decoration-color: #00af00\">65,664</span> │\n",
              "├──────────────────────────────────────┼─────────────────────────────┼─────────────────┤\n",
              "│ max_pooling2d_30 (<span style=\"color: #0087ff; text-decoration-color: #0087ff\">MaxPooling2D</span>)      │ (<span style=\"color: #00d7ff; text-decoration-color: #00d7ff\">None</span>, <span style=\"color: #00af00; text-decoration-color: #00af00\">7</span>, <span style=\"color: #00af00; text-decoration-color: #00af00\">7</span>, <span style=\"color: #00af00; text-decoration-color: #00af00\">128</span>)           │               <span style=\"color: #00af00; text-decoration-color: #00af00\">0</span> │\n",
              "├──────────────────────────────────────┼─────────────────────────────┼─────────────────┤\n",
              "│ dropout_51 (<span style=\"color: #0087ff; text-decoration-color: #0087ff\">Dropout</span>)                 │ (<span style=\"color: #00d7ff; text-decoration-color: #00d7ff\">None</span>, <span style=\"color: #00af00; text-decoration-color: #00af00\">7</span>, <span style=\"color: #00af00; text-decoration-color: #00af00\">7</span>, <span style=\"color: #00af00; text-decoration-color: #00af00\">128</span>)           │               <span style=\"color: #00af00; text-decoration-color: #00af00\">0</span> │\n",
              "├──────────────────────────────────────┼─────────────────────────────┼─────────────────┤\n",
              "│ flatten_9 (<span style=\"color: #0087ff; text-decoration-color: #0087ff\">Flatten</span>)                  │ (<span style=\"color: #00d7ff; text-decoration-color: #00d7ff\">None</span>, <span style=\"color: #00af00; text-decoration-color: #00af00\">6272</span>)                │               <span style=\"color: #00af00; text-decoration-color: #00af00\">0</span> │\n",
              "├──────────────────────────────────────┼─────────────────────────────┼─────────────────┤\n",
              "│ dense_30 (<span style=\"color: #0087ff; text-decoration-color: #0087ff\">Dense</span>)                     │ (<span style=\"color: #00d7ff; text-decoration-color: #00d7ff\">None</span>, <span style=\"color: #00af00; text-decoration-color: #00af00\">1024</span>)                │       <span style=\"color: #00af00; text-decoration-color: #00af00\">6,423,552</span> │\n",
              "├──────────────────────────────────────┼─────────────────────────────┼─────────────────┤\n",
              "│ dropout_52 (<span style=\"color: #0087ff; text-decoration-color: #0087ff\">Dropout</span>)                 │ (<span style=\"color: #00d7ff; text-decoration-color: #00d7ff\">None</span>, <span style=\"color: #00af00; text-decoration-color: #00af00\">1024</span>)                │               <span style=\"color: #00af00; text-decoration-color: #00af00\">0</span> │\n",
              "├──────────────────────────────────────┼─────────────────────────────┼─────────────────┤\n",
              "│ dense_31 (<span style=\"color: #0087ff; text-decoration-color: #0087ff\">Dense</span>)                     │ (<span style=\"color: #00d7ff; text-decoration-color: #00d7ff\">None</span>, <span style=\"color: #00af00; text-decoration-color: #00af00\">1024</span>)                │       <span style=\"color: #00af00; text-decoration-color: #00af00\">1,049,600</span> │\n",
              "├──────────────────────────────────────┼─────────────────────────────┼─────────────────┤\n",
              "│ dropout_53 (<span style=\"color: #0087ff; text-decoration-color: #0087ff\">Dropout</span>)                 │ (<span style=\"color: #00d7ff; text-decoration-color: #00d7ff\">None</span>, <span style=\"color: #00af00; text-decoration-color: #00af00\">1024</span>)                │               <span style=\"color: #00af00; text-decoration-color: #00af00\">0</span> │\n",
              "├──────────────────────────────────────┼─────────────────────────────┼─────────────────┤\n",
              "│ dense_32 (<span style=\"color: #0087ff; text-decoration-color: #0087ff\">Dense</span>)                     │ (<span style=\"color: #00d7ff; text-decoration-color: #00d7ff\">None</span>, <span style=\"color: #00af00; text-decoration-color: #00af00\">5</span>)                   │           <span style=\"color: #00af00; text-decoration-color: #00af00\">5,125</span> │\n",
              "└──────────────────────────────────────┴─────────────────────────────┴─────────────────┘\n",
              "</pre>\n"
            ]
          },
          "metadata": {}
        },
        {
          "output_type": "display_data",
          "data": {
            "text/plain": [
              "\u001b[1m Total params: \u001b[0m\u001b[38;5;34m7,674,117\u001b[0m (29.27 MB)\n"
            ],
            "text/html": [
              "<pre style=\"white-space:pre;overflow-x:auto;line-height:normal;font-family:Menlo,'DejaVu Sans Mono',consolas,'Courier New',monospace\"><span style=\"font-weight: bold\"> Total params: </span><span style=\"color: #00af00; text-decoration-color: #00af00\">7,674,117</span> (29.27 MB)\n",
              "</pre>\n"
            ]
          },
          "metadata": {}
        },
        {
          "output_type": "display_data",
          "data": {
            "text/plain": [
              "\u001b[1m Trainable params: \u001b[0m\u001b[38;5;34m7,674,117\u001b[0m (29.27 MB)\n"
            ],
            "text/html": [
              "<pre style=\"white-space:pre;overflow-x:auto;line-height:normal;font-family:Menlo,'DejaVu Sans Mono',consolas,'Courier New',monospace\"><span style=\"font-weight: bold\"> Trainable params: </span><span style=\"color: #00af00; text-decoration-color: #00af00\">7,674,117</span> (29.27 MB)\n",
              "</pre>\n"
            ]
          },
          "metadata": {}
        },
        {
          "output_type": "display_data",
          "data": {
            "text/plain": [
              "\u001b[1m Non-trainable params: \u001b[0m\u001b[38;5;34m0\u001b[0m (0.00 B)\n"
            ],
            "text/html": [
              "<pre style=\"white-space:pre;overflow-x:auto;line-height:normal;font-family:Menlo,'DejaVu Sans Mono',consolas,'Courier New',monospace\"><span style=\"font-weight: bold\"> Non-trainable params: </span><span style=\"color: #00af00; text-decoration-color: #00af00\">0</span> (0.00 B)\n",
              "</pre>\n"
            ]
          },
          "metadata": {}
        }
      ]
    },
    {
      "cell_type": "code",
      "source": [
        "model.compile(optimizer = \"adam\", loss = \"categorical_crossentropy\", metrics = [\"accuracy\", \"AUC\"])\n",
        "# Area Under Curve\n",
        "model.fit(datagen.flow(train_x, train_y, batch_size = 256), validation_data = (val_x, val_y), epochs = 200)\n"
      ],
      "metadata": {
        "colab": {
          "base_uri": "https://localhost:8080/"
        },
        "collapsed": true,
        "id": "auEbbGtOfuUi",
        "outputId": "85282324-6135-4c4f-b4d6-ba3d05e6c902"
      },
      "execution_count": 41,
      "outputs": [
        {
          "output_type": "stream",
          "name": "stdout",
          "text": [
            "Epoch 1/200\n",
            "\u001b[1m1/1\u001b[0m \u001b[32m━━━━━━━━━━━━━━━━━━━━\u001b[0m\u001b[37m\u001b[0m \u001b[1m14s\u001b[0m 14s/step - AUC: 0.5542 - accuracy: 0.2551 - loss: 1.5980 - val_AUC: 0.4756 - val_accuracy: 0.2400 - val_loss: 1.6408\n",
            "Epoch 2/200\n",
            "\u001b[1m1/1\u001b[0m \u001b[32m━━━━━━━━━━━━━━━━━━━━\u001b[0m\u001b[37m\u001b[0m \u001b[1m10s\u001b[0m 10s/step - AUC: 0.5626 - accuracy: 0.2602 - loss: 1.5946 - val_AUC: 0.4798 - val_accuracy: 0.2400 - val_loss: 1.6403\n",
            "Epoch 3/200\n",
            "\u001b[1m1/1\u001b[0m \u001b[32m━━━━━━━━━━━━━━━━━━━━\u001b[0m\u001b[37m\u001b[0m \u001b[1m1s\u001b[0m 568ms/step - AUC: 0.5634 - accuracy: 0.2398 - loss: 1.5948 - val_AUC: 0.4804 - val_accuracy: 0.2400 - val_loss: 1.6409\n",
            "Epoch 4/200\n",
            "\u001b[1m1/1\u001b[0m \u001b[32m━━━━━━━━━━━━━━━━━━━━\u001b[0m\u001b[37m\u001b[0m \u001b[1m1s\u001b[0m 840ms/step - AUC: 0.5664 - accuracy: 0.2347 - loss: 1.5946 - val_AUC: 0.4872 - val_accuracy: 0.2400 - val_loss: 1.6413\n",
            "Epoch 5/200\n",
            "\u001b[1m1/1\u001b[0m \u001b[32m━━━━━━━━━━━━━━━━━━━━\u001b[0m\u001b[37m\u001b[0m \u001b[1m1s\u001b[0m 1s/step - AUC: 0.5658 - accuracy: 0.2500 - loss: 1.5974 - val_AUC: 0.4791 - val_accuracy: 0.2400 - val_loss: 1.6391\n",
            "Epoch 6/200\n",
            "\u001b[1m1/1\u001b[0m \u001b[32m━━━━━━━━━━━━━━━━━━━━\u001b[0m\u001b[37m\u001b[0m \u001b[1m1s\u001b[0m 987ms/step - AUC: 0.5553 - accuracy: 0.2143 - loss: 1.5969 - val_AUC: 0.4859 - val_accuracy: 0.2400 - val_loss: 1.6372\n",
            "Epoch 7/200\n",
            "\u001b[1m1/1\u001b[0m \u001b[32m━━━━━━━━━━━━━━━━━━━━\u001b[0m\u001b[37m\u001b[0m \u001b[1m1s\u001b[0m 938ms/step - AUC: 0.5690 - accuracy: 0.2704 - loss: 1.5928 - val_AUC: 0.4793 - val_accuracy: 0.2400 - val_loss: 1.6341\n",
            "Epoch 8/200\n",
            "\u001b[1m1/1\u001b[0m \u001b[32m━━━━━━━━━━━━━━━━━━━━\u001b[0m\u001b[37m\u001b[0m \u001b[1m1s\u001b[0m 652ms/step - AUC: 0.5809 - accuracy: 0.2551 - loss: 1.5867 - val_AUC: 0.4848 - val_accuracy: 0.2400 - val_loss: 1.6325\n",
            "Epoch 9/200\n",
            "\u001b[1m1/1\u001b[0m \u001b[32m━━━━━━━━━━━━━━━━━━━━\u001b[0m\u001b[37m\u001b[0m \u001b[1m1s\u001b[0m 1s/step - AUC: 0.5602 - accuracy: 0.2296 - loss: 1.5946 - val_AUC: 0.4907 - val_accuracy: 0.2400 - val_loss: 1.6302\n",
            "Epoch 10/200\n",
            "\u001b[1m1/1\u001b[0m \u001b[32m━━━━━━━━━━━━━━━━━━━━\u001b[0m\u001b[37m\u001b[0m \u001b[1m1s\u001b[0m 549ms/step - AUC: 0.5638 - accuracy: 0.2806 - loss: 1.5928 - val_AUC: 0.4830 - val_accuracy: 0.2400 - val_loss: 1.6284\n",
            "Epoch 11/200\n",
            "\u001b[1m1/1\u001b[0m \u001b[32m━━━━━━━━━━━━━━━━━━━━\u001b[0m\u001b[37m\u001b[0m \u001b[1m1s\u001b[0m 556ms/step - AUC: 0.5709 - accuracy: 0.2551 - loss: 1.5901 - val_AUC: 0.4856 - val_accuracy: 0.2400 - val_loss: 1.6273\n",
            "Epoch 12/200\n",
            "\u001b[1m1/1\u001b[0m \u001b[32m━━━━━━━━━━━━━━━━━━━━\u001b[0m\u001b[37m\u001b[0m \u001b[1m1s\u001b[0m 635ms/step - AUC: 0.5699 - accuracy: 0.2755 - loss: 1.5892 - val_AUC: 0.4909 - val_accuracy: 0.2400 - val_loss: 1.6267\n",
            "Epoch 13/200\n",
            "\u001b[1m1/1\u001b[0m \u001b[32m━━━━━━━━━━━━━━━━━━━━\u001b[0m\u001b[37m\u001b[0m \u001b[1m1s\u001b[0m 553ms/step - AUC: 0.5634 - accuracy: 0.2449 - loss: 1.5921 - val_AUC: 0.4943 - val_accuracy: 0.2400 - val_loss: 1.6249\n",
            "Epoch 14/200\n",
            "\u001b[1m1/1\u001b[0m \u001b[32m━━━━━━━━━━━━━━━━━━━━\u001b[0m\u001b[37m\u001b[0m \u001b[1m1s\u001b[0m 609ms/step - AUC: 0.5794 - accuracy: 0.2296 - loss: 1.5852 - val_AUC: 0.4962 - val_accuracy: 0.2400 - val_loss: 1.6235\n",
            "Epoch 15/200\n",
            "\u001b[1m1/1\u001b[0m \u001b[32m━━━━━━━━━━━━━━━━━━━━\u001b[0m\u001b[37m\u001b[0m \u001b[1m1s\u001b[0m 583ms/step - AUC: 0.5885 - accuracy: 0.2755 - loss: 1.5808 - val_AUC: 0.5013 - val_accuracy: 0.2400 - val_loss: 1.6224\n",
            "Epoch 16/200\n",
            "\u001b[1m1/1\u001b[0m \u001b[32m━━━━━━━━━━━━━━━━━━━━\u001b[0m\u001b[37m\u001b[0m \u001b[1m1s\u001b[0m 567ms/step - AUC: 0.5774 - accuracy: 0.2806 - loss: 1.5862 - val_AUC: 0.5228 - val_accuracy: 0.2400 - val_loss: 1.6211\n",
            "Epoch 17/200\n",
            "\u001b[1m1/1\u001b[0m \u001b[32m━━━━━━━━━━━━━━━━━━━━\u001b[0m\u001b[37m\u001b[0m \u001b[1m1s\u001b[0m 559ms/step - AUC: 0.5793 - accuracy: 0.2806 - loss: 1.5836 - val_AUC: 0.5151 - val_accuracy: 0.2400 - val_loss: 1.6202\n",
            "Epoch 18/200\n",
            "\u001b[1m1/1\u001b[0m \u001b[32m━━━━━━━━━━━━━━━━━━━━\u001b[0m\u001b[37m\u001b[0m \u001b[1m1s\u001b[0m 615ms/step - AUC: 0.5890 - accuracy: 0.2959 - loss: 1.5804 - val_AUC: 0.5450 - val_accuracy: 0.2400 - val_loss: 1.6184\n",
            "Epoch 19/200\n",
            "\u001b[1m1/1\u001b[0m \u001b[32m━━━━━━━━━━━━━━━━━━━━\u001b[0m\u001b[37m\u001b[0m \u001b[1m1s\u001b[0m 548ms/step - AUC: 0.5845 - accuracy: 0.3112 - loss: 1.5798 - val_AUC: 0.5292 - val_accuracy: 0.2400 - val_loss: 1.6184\n",
            "Epoch 20/200\n",
            "\u001b[1m1/1\u001b[0m \u001b[32m━━━━━━━━━━━━━━━━━━━━\u001b[0m\u001b[37m\u001b[0m \u001b[1m1s\u001b[0m 547ms/step - AUC: 0.6083 - accuracy: 0.3418 - loss: 1.5705 - val_AUC: 0.5515 - val_accuracy: 0.2400 - val_loss: 1.6152\n",
            "Epoch 21/200\n",
            "\u001b[1m1/1\u001b[0m \u001b[32m━━━━━━━━━━━━━━━━━━━━\u001b[0m\u001b[37m\u001b[0m \u001b[1m1s\u001b[0m 612ms/step - AUC: 0.5931 - accuracy: 0.2755 - loss: 1.5719 - val_AUC: 0.5338 - val_accuracy: 0.2400 - val_loss: 1.6154\n",
            "Epoch 22/200\n",
            "\u001b[1m1/1\u001b[0m \u001b[32m━━━━━━━━━━━━━━━━━━━━\u001b[0m\u001b[37m\u001b[0m \u001b[1m1s\u001b[0m 556ms/step - AUC: 0.5998 - accuracy: 0.3316 - loss: 1.5652 - val_AUC: 0.5217 - val_accuracy: 0.2400 - val_loss: 1.6160\n",
            "Epoch 23/200\n",
            "\u001b[1m1/1\u001b[0m \u001b[32m━━━━━━━━━━━━━━━━━━━━\u001b[0m\u001b[37m\u001b[0m \u001b[1m1s\u001b[0m 566ms/step - AUC: 0.6041 - accuracy: 0.2959 - loss: 1.5748 - val_AUC: 0.5257 - val_accuracy: 0.2400 - val_loss: 1.6138\n",
            "Epoch 24/200\n",
            "\u001b[1m1/1\u001b[0m \u001b[32m━━━━━━━━━━━━━━━━━━━━\u001b[0m\u001b[37m\u001b[0m \u001b[1m1s\u001b[0m 770ms/step - AUC: 0.6114 - accuracy: 0.3112 - loss: 1.5609 - val_AUC: 0.5457 - val_accuracy: 0.2400 - val_loss: 1.6091\n",
            "Epoch 25/200\n",
            "\u001b[1m1/1\u001b[0m \u001b[32m━━━━━━━━━━━━━━━━━━━━\u001b[0m\u001b[37m\u001b[0m \u001b[1m1s\u001b[0m 1s/step - AUC: 0.6161 - accuracy: 0.2755 - loss: 1.5571 - val_AUC: 0.5236 - val_accuracy: 0.2400 - val_loss: 1.6133\n",
            "Epoch 26/200\n",
            "\u001b[1m1/1\u001b[0m \u001b[32m━━━━━━━━━━━━━━━━━━━━\u001b[0m\u001b[37m\u001b[0m \u001b[1m1s\u001b[0m 1s/step - AUC: 0.6265 - accuracy: 0.3265 - loss: 1.5600 - val_AUC: 0.5162 - val_accuracy: 0.2400 - val_loss: 1.6120\n",
            "Epoch 27/200\n",
            "\u001b[1m1/1\u001b[0m \u001b[32m━━━━━━━━━━━━━━━━━━━━\u001b[0m\u001b[37m\u001b[0m \u001b[1m1s\u001b[0m 845ms/step - AUC: 0.6415 - accuracy: 0.3622 - loss: 1.5470 - val_AUC: 0.5346 - val_accuracy: 0.2400 - val_loss: 1.6053\n",
            "Epoch 28/200\n",
            "\u001b[1m1/1\u001b[0m \u001b[32m━━━━━━━━━━━━━━━━━━━━\u001b[0m\u001b[37m\u001b[0m \u001b[1m1s\u001b[0m 548ms/step - AUC: 0.6211 - accuracy: 0.2704 - loss: 1.5472 - val_AUC: 0.5276 - val_accuracy: 0.2400 - val_loss: 1.6103\n",
            "Epoch 29/200\n",
            "\u001b[1m1/1\u001b[0m \u001b[32m━━━━━━━━━━━━━━━━━━━━\u001b[0m\u001b[37m\u001b[0m \u001b[1m1s\u001b[0m 617ms/step - AUC: 0.6301 - accuracy: 0.3469 - loss: 1.5427 - val_AUC: 0.5295 - val_accuracy: 0.2400 - val_loss: 1.6109\n",
            "Epoch 30/200\n",
            "\u001b[1m1/1\u001b[0m \u001b[32m━━━━━━━━━━━━━━━━━━━━\u001b[0m\u001b[37m\u001b[0m \u001b[1m1s\u001b[0m 643ms/step - AUC: 0.6299 - accuracy: 0.3010 - loss: 1.5550 - val_AUC: 0.5688 - val_accuracy: 0.2400 - val_loss: 1.6096\n",
            "Epoch 31/200\n",
            "\u001b[1m1/1\u001b[0m \u001b[32m━━━━━━━━━━━━━━━━━━━━\u001b[0m\u001b[37m\u001b[0m \u001b[1m1s\u001b[0m 569ms/step - AUC: 0.6564 - accuracy: 0.3520 - loss: 1.5298 - val_AUC: 0.5660 - val_accuracy: 0.2400 - val_loss: 1.6035\n",
            "Epoch 32/200\n",
            "\u001b[1m1/1\u001b[0m \u001b[32m━━━━━━━━━━━━━━━━━━━━\u001b[0m\u001b[37m\u001b[0m \u001b[1m1s\u001b[0m 596ms/step - AUC: 0.6097 - accuracy: 0.2704 - loss: 1.5790 - val_AUC: 0.5489 - val_accuracy: 0.2400 - val_loss: 1.6097\n",
            "Epoch 33/200\n",
            "\u001b[1m1/1\u001b[0m \u001b[32m━━━━━━━━━━━━━━━━━━━━\u001b[0m\u001b[37m\u001b[0m \u001b[1m1s\u001b[0m 551ms/step - AUC: 0.6544 - accuracy: 0.3061 - loss: 1.5300 - val_AUC: 0.5490 - val_accuracy: 0.2400 - val_loss: 1.6096\n",
            "Epoch 34/200\n",
            "\u001b[1m1/1\u001b[0m \u001b[32m━━━━━━━━━━━━━━━━━━━━\u001b[0m\u001b[37m\u001b[0m \u001b[1m1s\u001b[0m 624ms/step - AUC: 0.6067 - accuracy: 0.2755 - loss: 1.5665 - val_AUC: 0.5474 - val_accuracy: 0.2400 - val_loss: 1.6094\n",
            "Epoch 35/200\n",
            "\u001b[1m1/1\u001b[0m \u001b[32m━━━━━━━━━━━━━━━━━━━━\u001b[0m\u001b[37m\u001b[0m \u001b[1m1s\u001b[0m 572ms/step - AUC: 0.6457 - accuracy: 0.3214 - loss: 1.5322 - val_AUC: 0.5718 - val_accuracy: 0.2400 - val_loss: 1.6036\n",
            "Epoch 36/200\n",
            "\u001b[1m1/1\u001b[0m \u001b[32m━━━━━━━━━━━━━━━━━━━━\u001b[0m\u001b[37m\u001b[0m \u001b[1m1s\u001b[0m 616ms/step - AUC: 0.6512 - accuracy: 0.3316 - loss: 1.5173 - val_AUC: 0.5696 - val_accuracy: 0.2400 - val_loss: 1.6013\n",
            "Epoch 37/200\n",
            "\u001b[1m1/1\u001b[0m \u001b[32m━━━━━━━━━━━━━━━━━━━━\u001b[0m\u001b[37m\u001b[0m \u001b[1m1s\u001b[0m 581ms/step - AUC: 0.6419 - accuracy: 0.3163 - loss: 1.5320 - val_AUC: 0.5642 - val_accuracy: 0.2400 - val_loss: 1.6089\n",
            "Epoch 38/200\n",
            "\u001b[1m1/1\u001b[0m \u001b[32m━━━━━━━━━━━━━━━━━━━━\u001b[0m\u001b[37m\u001b[0m \u001b[1m1s\u001b[0m 577ms/step - AUC: 0.6585 - accuracy: 0.3622 - loss: 1.5129 - val_AUC: 0.5610 - val_accuracy: 0.2400 - val_loss: 1.6108\n",
            "Epoch 39/200\n",
            "\u001b[1m1/1\u001b[0m \u001b[32m━━━━━━━━━━━━━━━━━━━━\u001b[0m\u001b[37m\u001b[0m \u001b[1m1s\u001b[0m 583ms/step - AUC: 0.6652 - accuracy: 0.3214 - loss: 1.5145 - val_AUC: 0.5531 - val_accuracy: 0.2400 - val_loss: 1.6110\n",
            "Epoch 40/200\n",
            "\u001b[1m1/1\u001b[0m \u001b[32m━━━━━━━━━━━━━━━━━━━━\u001b[0m\u001b[37m\u001b[0m \u001b[1m1s\u001b[0m 580ms/step - AUC: 0.6622 - accuracy: 0.3673 - loss: 1.5043 - val_AUC: 0.5690 - val_accuracy: 0.2400 - val_loss: 1.6095\n",
            "Epoch 41/200\n",
            "\u001b[1m1/1\u001b[0m \u001b[32m━━━━━━━━━━━━━━━━━━━━\u001b[0m\u001b[37m\u001b[0m \u001b[1m1s\u001b[0m 540ms/step - AUC: 0.6922 - accuracy: 0.3622 - loss: 1.4657 - val_AUC: 0.5723 - val_accuracy: 0.2400 - val_loss: 1.6107\n",
            "Epoch 42/200\n",
            "\u001b[1m1/1\u001b[0m \u001b[32m━━━━━━━━━━━━━━━━━━━━\u001b[0m\u001b[37m\u001b[0m \u001b[1m1s\u001b[0m 586ms/step - AUC: 0.6568 - accuracy: 0.3265 - loss: 1.5031 - val_AUC: 0.5652 - val_accuracy: 0.2400 - val_loss: 1.6209\n",
            "Epoch 43/200\n",
            "\u001b[1m1/1\u001b[0m \u001b[32m━━━━━━━━━━━━━━━━━━━━\u001b[0m\u001b[37m\u001b[0m \u001b[1m1s\u001b[0m 625ms/step - AUC: 0.7103 - accuracy: 0.3980 - loss: 1.4349 - val_AUC: 0.5645 - val_accuracy: 0.2400 - val_loss: 1.6291\n",
            "Epoch 44/200\n",
            "\u001b[1m1/1\u001b[0m \u001b[32m━━━━━━━━━━━━━━━━━━━━\u001b[0m\u001b[37m\u001b[0m \u001b[1m2s\u001b[0m 2s/step - AUC: 0.6651 - accuracy: 0.3622 - loss: 1.4811 - val_AUC: 0.5657 - val_accuracy: 0.2400 - val_loss: 1.6475\n",
            "Epoch 45/200\n",
            "\u001b[1m1/1\u001b[0m \u001b[32m━━━━━━━━━━━━━━━━━━━━\u001b[0m\u001b[37m\u001b[0m \u001b[1m1s\u001b[0m 1s/step - AUC: 0.6799 - accuracy: 0.3776 - loss: 1.4640 - val_AUC: 0.5599 - val_accuracy: 0.2400 - val_loss: 1.6722\n",
            "Epoch 46/200\n",
            "\u001b[1m1/1\u001b[0m \u001b[32m━━━━━━━━━━━━━━━━━━━━\u001b[0m\u001b[37m\u001b[0m \u001b[1m1s\u001b[0m 680ms/step - AUC: 0.6828 - accuracy: 0.3878 - loss: 1.4541 - val_AUC: 0.5525 - val_accuracy: 0.2400 - val_loss: 1.6733\n",
            "Epoch 47/200\n",
            "\u001b[1m1/1\u001b[0m \u001b[32m━━━━━━━━━━━━━━━━━━━━\u001b[0m\u001b[37m\u001b[0m \u001b[1m1s\u001b[0m 1s/step - AUC: 0.7087 - accuracy: 0.3520 - loss: 1.4094 - val_AUC: 0.5613 - val_accuracy: 0.2400 - val_loss: 1.6951\n",
            "Epoch 48/200\n",
            "\u001b[1m1/1\u001b[0m \u001b[32m━━━━━━━━━━━━━━━━━━━━\u001b[0m\u001b[37m\u001b[0m \u001b[1m1s\u001b[0m 587ms/step - AUC: 0.6926 - accuracy: 0.3980 - loss: 1.4417 - val_AUC: 0.5585 - val_accuracy: 0.2400 - val_loss: 1.7166\n",
            "Epoch 49/200\n",
            "\u001b[1m1/1\u001b[0m \u001b[32m━━━━━━━━━━━━━━━━━━━━\u001b[0m\u001b[37m\u001b[0m \u001b[1m1s\u001b[0m 554ms/step - AUC: 0.6912 - accuracy: 0.3724 - loss: 1.4709 - val_AUC: 0.5570 - val_accuracy: 0.2200 - val_loss: 1.6954\n",
            "Epoch 50/200\n",
            "\u001b[1m1/1\u001b[0m \u001b[32m━━━━━━━━━━━━━━━━━━━━\u001b[0m\u001b[37m\u001b[0m \u001b[1m1s\u001b[0m 623ms/step - AUC: 0.6841 - accuracy: 0.3673 - loss: 1.4495 - val_AUC: 0.5540 - val_accuracy: 0.2400 - val_loss: 1.6924\n",
            "Epoch 51/200\n",
            "\u001b[1m1/1\u001b[0m \u001b[32m━━━━━━━━━━━━━━━━━━━━\u001b[0m\u001b[37m\u001b[0m \u001b[1m1s\u001b[0m 1s/step - AUC: 0.6864 - accuracy: 0.3929 - loss: 1.4483 - val_AUC: 0.5637 - val_accuracy: 0.2600 - val_loss: 1.6919\n",
            "Epoch 52/200\n",
            "\u001b[1m1/1\u001b[0m \u001b[32m━━━━━━━━━━━━━━━━━━━━\u001b[0m\u001b[37m\u001b[0m \u001b[1m1s\u001b[0m 561ms/step - AUC: 0.7107 - accuracy: 0.4286 - loss: 1.4241 - val_AUC: 0.5745 - val_accuracy: 0.2000 - val_loss: 1.6913\n",
            "Epoch 53/200\n",
            "\u001b[1m1/1\u001b[0m \u001b[32m━━━━━━━━━━━━━━━━━━━━\u001b[0m\u001b[37m\u001b[0m \u001b[1m1s\u001b[0m 633ms/step - AUC: 0.7050 - accuracy: 0.3776 - loss: 1.4048 - val_AUC: 0.5594 - val_accuracy: 0.2200 - val_loss: 1.6967\n",
            "Epoch 54/200\n",
            "\u001b[1m1/1\u001b[0m \u001b[32m━━━━━━━━━━━━━━━━━━━━\u001b[0m\u001b[37m\u001b[0m \u001b[1m1s\u001b[0m 583ms/step - AUC: 0.7131 - accuracy: 0.4337 - loss: 1.4163 - val_AUC: 0.5632 - val_accuracy: 0.2600 - val_loss: 1.7028\n",
            "Epoch 55/200\n",
            "\u001b[1m1/1\u001b[0m \u001b[32m━━━━━━━━━━━━━━━━━━━━\u001b[0m\u001b[37m\u001b[0m \u001b[1m1s\u001b[0m 616ms/step - AUC: 0.7081 - accuracy: 0.3929 - loss: 1.4277 - val_AUC: 0.5681 - val_accuracy: 0.2400 - val_loss: 1.7000\n",
            "Epoch 56/200\n",
            "\u001b[1m1/1\u001b[0m \u001b[32m━━━━━━━━━━━━━━━━━━━━\u001b[0m\u001b[37m\u001b[0m \u001b[1m1s\u001b[0m 559ms/step - AUC: 0.7018 - accuracy: 0.3929 - loss: 1.4409 - val_AUC: 0.5624 - val_accuracy: 0.2400 - val_loss: 1.7121\n",
            "Epoch 57/200\n",
            "\u001b[1m1/1\u001b[0m \u001b[32m━━━━━━━━━━━━━━━━━━━━\u001b[0m\u001b[37m\u001b[0m \u001b[1m1s\u001b[0m 612ms/step - AUC: 0.7413 - accuracy: 0.4286 - loss: 1.3622 - val_AUC: 0.5562 - val_accuracy: 0.2200 - val_loss: 1.7232\n",
            "Epoch 58/200\n",
            "\u001b[1m1/1\u001b[0m \u001b[32m━━━━━━━━━━━━━━━━━━━━\u001b[0m\u001b[37m\u001b[0m \u001b[1m1s\u001b[0m 572ms/step - AUC: 0.7089 - accuracy: 0.3929 - loss: 1.3936 - val_AUC: 0.5591 - val_accuracy: 0.2400 - val_loss: 1.7291\n",
            "Epoch 59/200\n",
            "\u001b[1m1/1\u001b[0m \u001b[32m━━━━━━━━━━━━━━━━━━━━\u001b[0m\u001b[37m\u001b[0m \u001b[1m1s\u001b[0m 599ms/step - AUC: 0.7531 - accuracy: 0.4490 - loss: 1.3506 - val_AUC: 0.5582 - val_accuracy: 0.2400 - val_loss: 1.7400\n",
            "Epoch 60/200\n",
            "\u001b[1m1/1\u001b[0m \u001b[32m━━━━━━━━━━━━━━━━━━━━\u001b[0m\u001b[37m\u001b[0m \u001b[1m1s\u001b[0m 572ms/step - AUC: 0.7208 - accuracy: 0.3878 - loss: 1.4015 - val_AUC: 0.5516 - val_accuracy: 0.2200 - val_loss: 1.7766\n",
            "Epoch 61/200\n",
            "\u001b[1m1/1\u001b[0m \u001b[32m━━━━━━━━━━━━━━━━━━━━\u001b[0m\u001b[37m\u001b[0m \u001b[1m1s\u001b[0m 883ms/step - AUC: 0.7162 - accuracy: 0.3929 - loss: 1.3843 - val_AUC: 0.5478 - val_accuracy: 0.2200 - val_loss: 1.7856\n",
            "Epoch 62/200\n",
            "\u001b[1m1/1\u001b[0m \u001b[32m━━━━━━━━━━━━━━━━━━━━\u001b[0m\u001b[37m\u001b[0m \u001b[1m1s\u001b[0m 1s/step - AUC: 0.7206 - accuracy: 0.4796 - loss: 1.3742 - val_AUC: 0.5579 - val_accuracy: 0.2600 - val_loss: 1.7766\n",
            "Epoch 63/200\n",
            "\u001b[1m1/1\u001b[0m \u001b[32m━━━━━━━━━━━━━━━━━━━━\u001b[0m\u001b[37m\u001b[0m \u001b[1m1s\u001b[0m 1s/step - AUC: 0.7070 - accuracy: 0.3929 - loss: 1.4055 - val_AUC: 0.5608 - val_accuracy: 0.2800 - val_loss: 1.7805\n",
            "Epoch 64/200\n",
            "\u001b[1m1/1\u001b[0m \u001b[32m━━━━━━━━━━━━━━━━━━━━\u001b[0m\u001b[37m\u001b[0m \u001b[1m1s\u001b[0m 779ms/step - AUC: 0.7404 - accuracy: 0.4388 - loss: 1.3462 - val_AUC: 0.5533 - val_accuracy: 0.2600 - val_loss: 1.8139\n",
            "Epoch 65/200\n",
            "\u001b[1m1/1\u001b[0m \u001b[32m━━━━━━━━━━━━━━━━━━━━\u001b[0m\u001b[37m\u001b[0m \u001b[1m1s\u001b[0m 575ms/step - AUC: 0.7286 - accuracy: 0.4235 - loss: 1.3530 - val_AUC: 0.5613 - val_accuracy: 0.2800 - val_loss: 1.8422\n",
            "Epoch 66/200\n",
            "\u001b[1m1/1\u001b[0m \u001b[32m━━━━━━━━━━━━━━━━━━━━\u001b[0m\u001b[37m\u001b[0m \u001b[1m1s\u001b[0m 612ms/step - AUC: 0.7499 - accuracy: 0.4388 - loss: 1.3427 - val_AUC: 0.5595 - val_accuracy: 0.2400 - val_loss: 1.8594\n",
            "Epoch 67/200\n",
            "\u001b[1m1/1\u001b[0m \u001b[32m━━━━━━━━━━━━━━━━━━━━\u001b[0m\u001b[37m\u001b[0m \u001b[1m1s\u001b[0m 625ms/step - AUC: 0.7382 - accuracy: 0.4235 - loss: 1.3562 - val_AUC: 0.5485 - val_accuracy: 0.2400 - val_loss: 1.8885\n",
            "Epoch 68/200\n",
            "\u001b[1m1/1\u001b[0m \u001b[32m━━━━━━━━━━━━━━━━━━━━\u001b[0m\u001b[37m\u001b[0m \u001b[1m1s\u001b[0m 583ms/step - AUC: 0.7413 - accuracy: 0.4694 - loss: 1.3549 - val_AUC: 0.5398 - val_accuracy: 0.2400 - val_loss: 1.8748\n",
            "Epoch 69/200\n",
            "\u001b[1m1/1\u001b[0m \u001b[32m━━━━━━━━━━━━━━━━━━━━\u001b[0m\u001b[37m\u001b[0m \u001b[1m1s\u001b[0m 573ms/step - AUC: 0.7424 - accuracy: 0.4541 - loss: 1.3423 - val_AUC: 0.5578 - val_accuracy: 0.2200 - val_loss: 1.7606\n",
            "Epoch 70/200\n",
            "\u001b[1m1/1\u001b[0m \u001b[32m━━━━━━━━━━━━━━━━━━━━\u001b[0m\u001b[37m\u001b[0m \u001b[1m1s\u001b[0m 552ms/step - AUC: 0.7519 - accuracy: 0.4592 - loss: 1.3442 - val_AUC: 0.5540 - val_accuracy: 0.2200 - val_loss: 1.7647\n",
            "Epoch 71/200\n",
            "\u001b[1m1/1\u001b[0m \u001b[32m━━━━━━━━━━━━━━━━━━━━\u001b[0m\u001b[37m\u001b[0m \u001b[1m1s\u001b[0m 628ms/step - AUC: 0.7549 - accuracy: 0.4541 - loss: 1.3232 - val_AUC: 0.5555 - val_accuracy: 0.2600 - val_loss: 1.8138\n",
            "Epoch 72/200\n",
            "\u001b[1m1/1\u001b[0m \u001b[32m━━━━━━━━━━━━━━━━━━━━\u001b[0m\u001b[37m\u001b[0m \u001b[1m1s\u001b[0m 612ms/step - AUC: 0.7419 - accuracy: 0.4133 - loss: 1.3236 - val_AUC: 0.5548 - val_accuracy: 0.2600 - val_loss: 1.8330\n",
            "Epoch 73/200\n",
            "\u001b[1m1/1\u001b[0m \u001b[32m━━━━━━━━━━━━━━━━━━━━\u001b[0m\u001b[37m\u001b[0m \u001b[1m1s\u001b[0m 547ms/step - AUC: 0.7669 - accuracy: 0.4847 - loss: 1.2921 - val_AUC: 0.5522 - val_accuracy: 0.2800 - val_loss: 1.8986\n",
            "Epoch 74/200\n",
            "\u001b[1m1/1\u001b[0m \u001b[32m━━━━━━━━━━━━━━━━━━━━\u001b[0m\u001b[37m\u001b[0m \u001b[1m1s\u001b[0m 589ms/step - AUC: 0.7765 - accuracy: 0.5102 - loss: 1.2775 - val_AUC: 0.5272 - val_accuracy: 0.2200 - val_loss: 2.0148\n",
            "Epoch 75/200\n",
            "\u001b[1m1/1\u001b[0m \u001b[32m━━━━━━━━━━━━━━━━━━━━\u001b[0m\u001b[37m\u001b[0m \u001b[1m1s\u001b[0m 544ms/step - AUC: 0.6759 - accuracy: 0.3571 - loss: 1.5069 - val_AUC: 0.5903 - val_accuracy: 0.2600 - val_loss: 1.7219\n",
            "Epoch 76/200\n",
            "\u001b[1m1/1\u001b[0m \u001b[32m━━━━━━━━━━━━━━━━━━━━\u001b[0m\u001b[37m\u001b[0m \u001b[1m1s\u001b[0m 577ms/step - AUC: 0.7147 - accuracy: 0.4184 - loss: 1.4631 - val_AUC: 0.5948 - val_accuracy: 0.2800 - val_loss: 1.6282\n",
            "Epoch 77/200\n",
            "\u001b[1m1/1\u001b[0m \u001b[32m━━━━━━━━━━━━━━━━━━━━\u001b[0m\u001b[37m\u001b[0m \u001b[1m1s\u001b[0m 618ms/step - AUC: 0.7451 - accuracy: 0.4286 - loss: 1.3309 - val_AUC: 0.5665 - val_accuracy: 0.2200 - val_loss: 1.6413\n",
            "Epoch 78/200\n",
            "\u001b[1m1/1\u001b[0m \u001b[32m━━━━━━━━━━━━━━━━━━━━\u001b[0m\u001b[37m\u001b[0m \u001b[1m1s\u001b[0m 592ms/step - AUC: 0.6739 - accuracy: 0.3214 - loss: 1.4742 - val_AUC: 0.5647 - val_accuracy: 0.2400 - val_loss: 1.6709\n",
            "Epoch 79/200\n",
            "\u001b[1m1/1\u001b[0m \u001b[32m━━━━━━━━━━━━━━━━━━━━\u001b[0m\u001b[37m\u001b[0m \u001b[1m1s\u001b[0m 608ms/step - AUC: 0.6604 - accuracy: 0.3316 - loss: 1.4821 - val_AUC: 0.5668 - val_accuracy: 0.2800 - val_loss: 1.7064\n",
            "Epoch 80/200\n",
            "\u001b[1m1/1\u001b[0m \u001b[32m━━━━━━━━━━━━━━━━━━━━\u001b[0m\u001b[37m\u001b[0m \u001b[1m1s\u001b[0m 558ms/step - AUC: 0.7155 - accuracy: 0.3827 - loss: 1.3795 - val_AUC: 0.5481 - val_accuracy: 0.2000 - val_loss: 1.7324\n",
            "Epoch 81/200\n",
            "\u001b[1m1/1\u001b[0m \u001b[32m━━━━━━━━━━━━━━━━━━━━\u001b[0m\u001b[37m\u001b[0m \u001b[1m1s\u001b[0m 800ms/step - AUC: 0.7502 - accuracy: 0.4235 - loss: 1.3476 - val_AUC: 0.5509 - val_accuracy: 0.2000 - val_loss: 1.7461\n",
            "Epoch 82/200\n",
            "\u001b[1m1/1\u001b[0m \u001b[32m━━━━━━━━━━━━━━━━━━━━\u001b[0m\u001b[37m\u001b[0m \u001b[1m1s\u001b[0m 1s/step - AUC: 0.7609 - accuracy: 0.4490 - loss: 1.3287 - val_AUC: 0.5641 - val_accuracy: 0.2600 - val_loss: 1.7542\n",
            "Epoch 83/200\n",
            "\u001b[1m1/1\u001b[0m \u001b[32m━━━━━━━━━━━━━━━━━━━━\u001b[0m\u001b[37m\u001b[0m \u001b[1m1s\u001b[0m 1s/step - AUC: 0.7862 - accuracy: 0.5000 - loss: 1.2961 - val_AUC: 0.5781 - val_accuracy: 0.2600 - val_loss: 1.7668\n",
            "Epoch 84/200\n",
            "\u001b[1m1/1\u001b[0m \u001b[32m━━━━━━━━━━━━━━━━━━━━\u001b[0m\u001b[37m\u001b[0m \u001b[1m1s\u001b[0m 821ms/step - AUC: 0.7774 - accuracy: 0.4898 - loss: 1.3157 - val_AUC: 0.5753 - val_accuracy: 0.3200 - val_loss: 1.7865\n",
            "Epoch 85/200\n",
            "\u001b[1m1/1\u001b[0m \u001b[32m━━━━━━━━━━━━━━━━━━━━\u001b[0m\u001b[37m\u001b[0m \u001b[1m1s\u001b[0m 602ms/step - AUC: 0.7748 - accuracy: 0.5051 - loss: 1.3003 - val_AUC: 0.5695 - val_accuracy: 0.2600 - val_loss: 1.8089\n",
            "Epoch 86/200\n",
            "\u001b[1m1/1\u001b[0m \u001b[32m━━━━━━━━━━━━━━━━━━━━\u001b[0m\u001b[37m\u001b[0m \u001b[1m1s\u001b[0m 624ms/step - AUC: 0.7843 - accuracy: 0.4898 - loss: 1.2755 - val_AUC: 0.5679 - val_accuracy: 0.2600 - val_loss: 1.8367\n",
            "Epoch 87/200\n",
            "\u001b[1m1/1\u001b[0m \u001b[32m━━━━━━━━━━━━━━━━━━━━\u001b[0m\u001b[37m\u001b[0m \u001b[1m1s\u001b[0m 555ms/step - AUC: 0.7550 - accuracy: 0.4490 - loss: 1.3384 - val_AUC: 0.5698 - val_accuracy: 0.2600 - val_loss: 1.8183\n",
            "Epoch 88/200\n",
            "\u001b[1m1/1\u001b[0m \u001b[32m━━━━━━━━━━━━━━━━━━━━\u001b[0m\u001b[37m\u001b[0m \u001b[1m1s\u001b[0m 570ms/step - AUC: 0.7868 - accuracy: 0.4898 - loss: 1.2384 - val_AUC: 0.5823 - val_accuracy: 0.2400 - val_loss: 1.7819\n",
            "Epoch 89/200\n",
            "\u001b[1m1/1\u001b[0m \u001b[32m━━━━━━━━━━━━━━━━━━━━\u001b[0m\u001b[37m\u001b[0m \u001b[1m1s\u001b[0m 533ms/step - AUC: 0.7764 - accuracy: 0.4694 - loss: 1.2699 - val_AUC: 0.5770 - val_accuracy: 0.2800 - val_loss: 1.8053\n",
            "Epoch 90/200\n",
            "\u001b[1m1/1\u001b[0m \u001b[32m━━━━━━━━━━━━━━━━━━━━\u001b[0m\u001b[37m\u001b[0m \u001b[1m1s\u001b[0m 559ms/step - AUC: 0.7846 - accuracy: 0.4745 - loss: 1.2772 - val_AUC: 0.5498 - val_accuracy: 0.2400 - val_loss: 1.9204\n",
            "Epoch 91/200\n",
            "\u001b[1m1/1\u001b[0m \u001b[32m━━━━━━━━━━━━━━━━━━━━\u001b[0m\u001b[37m\u001b[0m \u001b[1m1s\u001b[0m 617ms/step - AUC: 0.7778 - accuracy: 0.4490 - loss: 1.2748 - val_AUC: 0.5558 - val_accuracy: 0.2400 - val_loss: 1.9102\n",
            "Epoch 92/200\n",
            "\u001b[1m1/1\u001b[0m \u001b[32m━━━━━━━━━━━━━━━━━━━━\u001b[0m\u001b[37m\u001b[0m \u001b[1m1s\u001b[0m 571ms/step - AUC: 0.7840 - accuracy: 0.4694 - loss: 1.2512 - val_AUC: 0.5899 - val_accuracy: 0.2800 - val_loss: 1.7511\n",
            "Epoch 93/200\n",
            "\u001b[1m1/1\u001b[0m \u001b[32m━━━━━━━━━━━━━━━━━━━━\u001b[0m\u001b[37m\u001b[0m \u001b[1m1s\u001b[0m 598ms/step - AUC: 0.7785 - accuracy: 0.4643 - loss: 1.2730 - val_AUC: 0.6120 - val_accuracy: 0.2600 - val_loss: 1.6685\n",
            "Epoch 94/200\n",
            "\u001b[1m1/1\u001b[0m \u001b[32m━━━━━━━━━━━━━━━━━━━━\u001b[0m\u001b[37m\u001b[0m \u001b[1m1s\u001b[0m 615ms/step - AUC: 0.7935 - accuracy: 0.4898 - loss: 1.2467 - val_AUC: 0.6070 - val_accuracy: 0.2400 - val_loss: 1.6671\n",
            "Epoch 95/200\n",
            "\u001b[1m1/1\u001b[0m \u001b[32m━━━━━━━━━━━━━━━━━━━━\u001b[0m\u001b[37m\u001b[0m \u001b[1m1s\u001b[0m 622ms/step - AUC: 0.8194 - accuracy: 0.5357 - loss: 1.1726 - val_AUC: 0.6017 - val_accuracy: 0.2800 - val_loss: 1.6973\n",
            "Epoch 96/200\n",
            "\u001b[1m1/1\u001b[0m \u001b[32m━━━━━━━━━━━━━━━━━━━━\u001b[0m\u001b[37m\u001b[0m \u001b[1m1s\u001b[0m 550ms/step - AUC: 0.8059 - accuracy: 0.5204 - loss: 1.2266 - val_AUC: 0.5974 - val_accuracy: 0.3200 - val_loss: 1.7518\n",
            "Epoch 97/200\n",
            "\u001b[1m1/1\u001b[0m \u001b[32m━━━━━━━━━━━━━━━━━━━━\u001b[0m\u001b[37m\u001b[0m \u001b[1m1s\u001b[0m 561ms/step - AUC: 0.8052 - accuracy: 0.5051 - loss: 1.2092 - val_AUC: 0.5994 - val_accuracy: 0.3000 - val_loss: 1.7642\n",
            "Epoch 98/200\n",
            "\u001b[1m1/1\u001b[0m \u001b[32m━━━━━━━━━━━━━━━━━━━━\u001b[0m\u001b[37m\u001b[0m \u001b[1m1s\u001b[0m 667ms/step - AUC: 0.8201 - accuracy: 0.5204 - loss: 1.2059 - val_AUC: 0.5994 - val_accuracy: 0.3000 - val_loss: 1.8124\n",
            "Epoch 99/200\n",
            "\u001b[1m1/1\u001b[0m \u001b[32m━━━━━━━━━━━━━━━━━━━━\u001b[0m\u001b[37m\u001b[0m \u001b[1m1s\u001b[0m 554ms/step - AUC: 0.8296 - accuracy: 0.5357 - loss: 1.1535 - val_AUC: 0.5857 - val_accuracy: 0.2600 - val_loss: 1.9565\n",
            "Epoch 100/200\n",
            "\u001b[1m1/1\u001b[0m \u001b[32m━━━━━━━━━━━━━━━━━━━━\u001b[0m\u001b[37m\u001b[0m \u001b[1m1s\u001b[0m 763ms/step - AUC: 0.8209 - accuracy: 0.5153 - loss: 1.1596 - val_AUC: 0.5887 - val_accuracy: 0.2800 - val_loss: 2.0089\n",
            "Epoch 101/200\n",
            "\u001b[1m1/1\u001b[0m \u001b[32m━━━━━━━━━━━━━━━━━━━━\u001b[0m\u001b[37m\u001b[0m \u001b[1m1s\u001b[0m 1s/step - AUC: 0.8013 - accuracy: 0.5102 - loss: 1.1979 - val_AUC: 0.6170 - val_accuracy: 0.3200 - val_loss: 1.8981\n",
            "Epoch 102/200\n",
            "\u001b[1m1/1\u001b[0m \u001b[32m━━━━━━━━━━━━━━━━━━━━\u001b[0m\u001b[37m\u001b[0m \u001b[1m1s\u001b[0m 934ms/step - AUC: 0.8217 - accuracy: 0.5714 - loss: 1.1397 - val_AUC: 0.6236 - val_accuracy: 0.3200 - val_loss: 1.8897\n",
            "Epoch 103/200\n",
            "\u001b[1m1/1\u001b[0m \u001b[32m━━━━━━━━━━━━━━━━━━━━\u001b[0m\u001b[37m\u001b[0m \u001b[1m1s\u001b[0m 926ms/step - AUC: 0.8164 - accuracy: 0.5357 - loss: 1.1748 - val_AUC: 0.5989 - val_accuracy: 0.2800 - val_loss: 2.0270\n",
            "Epoch 104/200\n",
            "\u001b[1m1/1\u001b[0m \u001b[32m━━━━━━━━━━━━━━━━━━━━\u001b[0m\u001b[37m\u001b[0m \u001b[1m1s\u001b[0m 560ms/step - AUC: 0.8307 - accuracy: 0.5357 - loss: 1.1273 - val_AUC: 0.6183 - val_accuracy: 0.3000 - val_loss: 1.9092\n",
            "Epoch 105/200\n",
            "\u001b[1m1/1\u001b[0m \u001b[32m━━━━━━━━━━━━━━━━━━━━\u001b[0m\u001b[37m\u001b[0m \u001b[1m1s\u001b[0m 576ms/step - AUC: 0.8453 - accuracy: 0.5561 - loss: 1.0877 - val_AUC: 0.6335 - val_accuracy: 0.2400 - val_loss: 1.8593\n",
            "Epoch 106/200\n",
            "\u001b[1m1/1\u001b[0m \u001b[32m━━━━━━━━━━━━━━━━━━━━\u001b[0m\u001b[37m\u001b[0m \u001b[1m1s\u001b[0m 549ms/step - AUC: 0.8398 - accuracy: 0.5918 - loss: 1.1228 - val_AUC: 0.6448 - val_accuracy: 0.2800 - val_loss: 1.8451\n",
            "Epoch 107/200\n",
            "\u001b[1m1/1\u001b[0m \u001b[32m━━━━━━━━━━━━━━━━━━━━\u001b[0m\u001b[37m\u001b[0m \u001b[1m1s\u001b[0m 575ms/step - AUC: 0.8515 - accuracy: 0.5714 - loss: 1.0819 - val_AUC: 0.6582 - val_accuracy: 0.3200 - val_loss: 1.8080\n",
            "Epoch 108/200\n",
            "\u001b[1m1/1\u001b[0m \u001b[32m━━━━━━━━━━━━━━━━━━━━\u001b[0m\u001b[37m\u001b[0m \u001b[1m1s\u001b[0m 630ms/step - AUC: 0.8618 - accuracy: 0.5816 - loss: 1.0344 - val_AUC: 0.6684 - val_accuracy: 0.2800 - val_loss: 1.7860\n",
            "Epoch 109/200\n",
            "\u001b[1m1/1\u001b[0m \u001b[32m━━━━━━━━━━━━━━━━━━━━\u001b[0m\u001b[37m\u001b[0m \u001b[1m1s\u001b[0m 576ms/step - AUC: 0.8610 - accuracy: 0.5867 - loss: 1.0260 - val_AUC: 0.6666 - val_accuracy: 0.3200 - val_loss: 1.8383\n",
            "Epoch 110/200\n",
            "\u001b[1m1/1\u001b[0m \u001b[32m━━━━━━━━━━━━━━━━━━━━\u001b[0m\u001b[37m\u001b[0m \u001b[1m1s\u001b[0m 630ms/step - AUC: 0.8735 - accuracy: 0.6224 - loss: 0.9854 - val_AUC: 0.6669 - val_accuracy: 0.3200 - val_loss: 1.9060\n",
            "Epoch 111/200\n",
            "\u001b[1m1/1\u001b[0m \u001b[32m━━━━━━━━━━━━━━━━━━━━\u001b[0m\u001b[37m\u001b[0m \u001b[1m1s\u001b[0m 568ms/step - AUC: 0.8479 - accuracy: 0.5255 - loss: 1.0596 - val_AUC: 0.6786 - val_accuracy: 0.3400 - val_loss: 1.8681\n",
            "Epoch 112/200\n",
            "\u001b[1m1/1\u001b[0m \u001b[32m━━━━━━━━━━━━━━━━━━━━\u001b[0m\u001b[37m\u001b[0m \u001b[1m1s\u001b[0m 608ms/step - AUC: 0.8764 - accuracy: 0.5816 - loss: 0.9841 - val_AUC: 0.6980 - val_accuracy: 0.3600 - val_loss: 1.7961\n",
            "Epoch 113/200\n",
            "\u001b[1m1/1\u001b[0m \u001b[32m━━━━━━━━━━━━━━━━━━━━\u001b[0m\u001b[37m\u001b[0m \u001b[1m1s\u001b[0m 550ms/step - AUC: 0.8661 - accuracy: 0.5714 - loss: 1.0137 - val_AUC: 0.6549 - val_accuracy: 0.3600 - val_loss: 1.9907\n",
            "Epoch 114/200\n",
            "\u001b[1m1/1\u001b[0m \u001b[32m━━━━━━━━━━━━━━━━━━━━\u001b[0m\u001b[37m\u001b[0m \u001b[1m1s\u001b[0m 560ms/step - AUC: 0.8913 - accuracy: 0.6480 - loss: 0.9328 - val_AUC: 0.6210 - val_accuracy: 0.3000 - val_loss: 2.2268\n",
            "Epoch 115/200\n",
            "\u001b[1m1/1\u001b[0m \u001b[32m━━━━━━━━━━━━━━━━━━━━\u001b[0m\u001b[37m\u001b[0m \u001b[1m1s\u001b[0m 575ms/step - AUC: 0.8609 - accuracy: 0.6020 - loss: 1.0361 - val_AUC: 0.6668 - val_accuracy: 0.3400 - val_loss: 2.0538\n",
            "Epoch 116/200\n",
            "\u001b[1m1/1\u001b[0m \u001b[32m━━━━━━━━━━━━━━━━━━━━\u001b[0m\u001b[37m\u001b[0m \u001b[1m1s\u001b[0m 549ms/step - AUC: 0.8858 - accuracy: 0.6122 - loss: 0.9436 - val_AUC: 0.7006 - val_accuracy: 0.4000 - val_loss: 1.9620\n",
            "Epoch 117/200\n",
            "\u001b[1m1/1\u001b[0m \u001b[32m━━━━━━━━━━━━━━━━━━━━\u001b[0m\u001b[37m\u001b[0m \u001b[1m1s\u001b[0m 615ms/step - AUC: 0.8639 - accuracy: 0.5867 - loss: 1.0439 - val_AUC: 0.6642 - val_accuracy: 0.3400 - val_loss: 2.2430\n",
            "Epoch 118/200\n",
            "\u001b[1m1/1\u001b[0m \u001b[32m━━━━━━━━━━━━━━━━━━━━\u001b[0m\u001b[37m\u001b[0m \u001b[1m1s\u001b[0m 639ms/step - AUC: 0.8787 - accuracy: 0.6173 - loss: 0.9802 - val_AUC: 0.6788 - val_accuracy: 0.3400 - val_loss: 2.1472\n",
            "Epoch 119/200\n",
            "\u001b[1m1/1\u001b[0m \u001b[32m━━━━━━━━━━━━━━━━━━━━\u001b[0m\u001b[37m\u001b[0m \u001b[1m1s\u001b[0m 593ms/step - AUC: 0.8940 - accuracy: 0.6429 - loss: 0.9094 - val_AUC: 0.7024 - val_accuracy: 0.3600 - val_loss: 1.9941\n",
            "Epoch 120/200\n",
            "\u001b[1m1/1\u001b[0m \u001b[32m━━━━━━━━━━━━━━━━━━━━\u001b[0m\u001b[37m\u001b[0m \u001b[1m1s\u001b[0m 875ms/step - AUC: 0.9039 - accuracy: 0.6582 - loss: 0.8681 - val_AUC: 0.7152 - val_accuracy: 0.4400 - val_loss: 1.8919\n",
            "Epoch 121/200\n",
            "\u001b[1m1/1\u001b[0m \u001b[32m━━━━━━━━━━━━━━━━━━━━\u001b[0m\u001b[37m\u001b[0m \u001b[1m1s\u001b[0m 1s/step - AUC: 0.9100 - accuracy: 0.6582 - loss: 0.8429 - val_AUC: 0.7145 - val_accuracy: 0.4200 - val_loss: 1.8852\n",
            "Epoch 122/200\n",
            "\u001b[1m1/1\u001b[0m \u001b[32m━━━━━━━━━━━━━━━━━━━━\u001b[0m\u001b[37m\u001b[0m \u001b[1m1s\u001b[0m 1s/step - AUC: 0.8936 - accuracy: 0.6276 - loss: 0.9021 - val_AUC: 0.6800 - val_accuracy: 0.3600 - val_loss: 2.0938\n",
            "Epoch 123/200\n",
            "\u001b[1m1/1\u001b[0m \u001b[32m━━━━━━━━━━━━━━━━━━━━\u001b[0m\u001b[37m\u001b[0m \u001b[1m1s\u001b[0m 864ms/step - AUC: 0.9057 - accuracy: 0.6327 - loss: 0.8489 - val_AUC: 0.6907 - val_accuracy: 0.3800 - val_loss: 1.9977\n",
            "Epoch 124/200\n",
            "\u001b[1m1/1\u001b[0m \u001b[32m━━━━━━━━━━━━━━━━━━━━\u001b[0m\u001b[37m\u001b[0m \u001b[1m1s\u001b[0m 561ms/step - AUC: 0.8765 - accuracy: 0.6071 - loss: 0.9847 - val_AUC: 0.7394 - val_accuracy: 0.4000 - val_loss: 1.7068\n",
            "Epoch 125/200\n",
            "\u001b[1m1/1\u001b[0m \u001b[32m━━━━━━━━━━━━━━━━━━━━\u001b[0m\u001b[37m\u001b[0m \u001b[1m1s\u001b[0m 564ms/step - AUC: 0.8878 - accuracy: 0.6531 - loss: 0.9365 - val_AUC: 0.7447 - val_accuracy: 0.4600 - val_loss: 1.7212\n",
            "Epoch 126/200\n",
            "\u001b[1m1/1\u001b[0m \u001b[32m━━━━━━━━━━━━━━━━━━━━\u001b[0m\u001b[37m\u001b[0m \u001b[1m1s\u001b[0m 552ms/step - AUC: 0.9073 - accuracy: 0.6429 - loss: 0.8519 - val_AUC: 0.7376 - val_accuracy: 0.4800 - val_loss: 1.7781\n",
            "Epoch 127/200\n",
            "\u001b[1m1/1\u001b[0m \u001b[32m━━━━━━━━━━━━━━━━━━━━\u001b[0m\u001b[37m\u001b[0m \u001b[1m1s\u001b[0m 560ms/step - AUC: 0.8925 - accuracy: 0.6020 - loss: 0.9124 - val_AUC: 0.7340 - val_accuracy: 0.5000 - val_loss: 1.8390\n",
            "Epoch 128/200\n",
            "\u001b[1m1/1\u001b[0m \u001b[32m━━━━━━━━━━━━━━━━━━━━\u001b[0m\u001b[37m\u001b[0m \u001b[1m1s\u001b[0m 591ms/step - AUC: 0.9013 - accuracy: 0.6735 - loss: 0.8781 - val_AUC: 0.7341 - val_accuracy: 0.4600 - val_loss: 1.8310\n",
            "Epoch 129/200\n",
            "\u001b[1m1/1\u001b[0m \u001b[32m━━━━━━━━━━━━━━━━━━━━\u001b[0m\u001b[37m\u001b[0m \u001b[1m1s\u001b[0m 699ms/step - AUC: 0.8943 - accuracy: 0.6429 - loss: 0.9019 - val_AUC: 0.7350 - val_accuracy: 0.5000 - val_loss: 1.8055\n",
            "Epoch 130/200\n",
            "\u001b[1m1/1\u001b[0m \u001b[32m━━━━━━━━━━━━━━━━━━━━\u001b[0m\u001b[37m\u001b[0m \u001b[1m1s\u001b[0m 580ms/step - AUC: 0.9261 - accuracy: 0.6990 - loss: 0.7825 - val_AUC: 0.7327 - val_accuracy: 0.4800 - val_loss: 1.8154\n",
            "Epoch 131/200\n",
            "\u001b[1m1/1\u001b[0m \u001b[32m━━━━━━━━━━━━━━━━━━━━\u001b[0m\u001b[37m\u001b[0m \u001b[1m1s\u001b[0m 554ms/step - AUC: 0.9049 - accuracy: 0.6531 - loss: 0.8672 - val_AUC: 0.7337 - val_accuracy: 0.4800 - val_loss: 1.8530\n",
            "Epoch 132/200\n",
            "\u001b[1m1/1\u001b[0m \u001b[32m━━━━━━━━━━━━━━━━━━━━\u001b[0m\u001b[37m\u001b[0m \u001b[1m1s\u001b[0m 585ms/step - AUC: 0.9349 - accuracy: 0.7245 - loss: 0.7486 - val_AUC: 0.7327 - val_accuracy: 0.4600 - val_loss: 1.8965\n",
            "Epoch 133/200\n",
            "\u001b[1m1/1\u001b[0m \u001b[32m━━━━━━━━━━━━━━━━━━━━\u001b[0m\u001b[37m\u001b[0m \u001b[1m1s\u001b[0m 545ms/step - AUC: 0.9243 - accuracy: 0.6888 - loss: 0.7694 - val_AUC: 0.7344 - val_accuracy: 0.4600 - val_loss: 1.9898\n",
            "Epoch 134/200\n",
            "\u001b[1m1/1\u001b[0m \u001b[32m━━━━━━━━━━━━━━━━━━━━\u001b[0m\u001b[37m\u001b[0m \u001b[1m1s\u001b[0m 645ms/step - AUC: 0.9175 - accuracy: 0.6939 - loss: 0.8090 - val_AUC: 0.7314 - val_accuracy: 0.4600 - val_loss: 2.0821\n",
            "Epoch 135/200\n",
            "\u001b[1m1/1\u001b[0m \u001b[32m━━━━━━━━━━━━━━━━━━━━\u001b[0m\u001b[37m\u001b[0m \u001b[1m1s\u001b[0m 562ms/step - AUC: 0.9370 - accuracy: 0.7092 - loss: 0.7151 - val_AUC: 0.7218 - val_accuracy: 0.4600 - val_loss: 2.2212\n",
            "Epoch 136/200\n",
            "\u001b[1m1/1\u001b[0m \u001b[32m━━━━━━━━━━━━━━━━━━━━\u001b[0m\u001b[37m\u001b[0m \u001b[1m1s\u001b[0m 586ms/step - AUC: 0.9297 - accuracy: 0.7143 - loss: 0.7472 - val_AUC: 0.6942 - val_accuracy: 0.4200 - val_loss: 2.5192\n",
            "Epoch 137/200\n",
            "\u001b[1m1/1\u001b[0m \u001b[32m━━━━━━━━━━━━━━━━━━━━\u001b[0m\u001b[37m\u001b[0m \u001b[1m1s\u001b[0m 555ms/step - AUC: 0.9122 - accuracy: 0.6684 - loss: 0.8383 - val_AUC: 0.7561 - val_accuracy: 0.4600 - val_loss: 1.9515\n",
            "Epoch 138/200\n",
            "\u001b[1m1/1\u001b[0m \u001b[32m━━━━━━━━━━━━━━━━━━━━\u001b[0m\u001b[37m\u001b[0m \u001b[1m1s\u001b[0m 634ms/step - AUC: 0.8873 - accuracy: 0.6378 - loss: 0.9636 - val_AUC: 0.7572 - val_accuracy: 0.4600 - val_loss: 1.9690\n",
            "Epoch 139/200\n",
            "\u001b[1m1/1\u001b[0m \u001b[32m━━━━━━━━━━━━━━━━━━━━\u001b[0m\u001b[37m\u001b[0m \u001b[1m1s\u001b[0m 730ms/step - AUC: 0.9178 - accuracy: 0.6837 - loss: 0.8067 - val_AUC: 0.7342 - val_accuracy: 0.4200 - val_loss: 2.0434\n",
            "Epoch 140/200\n",
            "\u001b[1m1/1\u001b[0m \u001b[32m━━━━━━━━━━━━━━━━━━━━\u001b[0m\u001b[37m\u001b[0m \u001b[1m1s\u001b[0m 1s/step - AUC: 0.9091 - accuracy: 0.6531 - loss: 0.8409 - val_AUC: 0.7414 - val_accuracy: 0.4400 - val_loss: 1.9843\n",
            "Epoch 141/200\n",
            "\u001b[1m1/1\u001b[0m \u001b[32m━━━━━━━━━━━━━━━━━━━━\u001b[0m\u001b[37m\u001b[0m \u001b[1m1s\u001b[0m 1s/step - AUC: 0.9385 - accuracy: 0.7245 - loss: 0.7016 - val_AUC: 0.7554 - val_accuracy: 0.4400 - val_loss: 1.8035\n",
            "Epoch 142/200\n",
            "\u001b[1m1/1\u001b[0m \u001b[32m━━━━━━━━━━━━━━━━━━━━\u001b[0m\u001b[37m\u001b[0m \u001b[1m1s\u001b[0m 903ms/step - AUC: 0.9265 - accuracy: 0.7296 - loss: 0.7667 - val_AUC: 0.7591 - val_accuracy: 0.4800 - val_loss: 1.7029\n",
            "Epoch 143/200\n",
            "\u001b[1m1/1\u001b[0m \u001b[32m━━━━━━━━━━━━━━━━━━━━\u001b[0m\u001b[37m\u001b[0m \u001b[1m1s\u001b[0m 553ms/step - AUC: 0.9207 - accuracy: 0.6888 - loss: 0.7902 - val_AUC: 0.7473 - val_accuracy: 0.4000 - val_loss: 1.7229\n",
            "Epoch 144/200\n",
            "\u001b[1m1/1\u001b[0m \u001b[32m━━━━━━━━━━━━━━━━━━━━\u001b[0m\u001b[37m\u001b[0m \u001b[1m1s\u001b[0m 573ms/step - AUC: 0.9190 - accuracy: 0.7041 - loss: 0.8116 - val_AUC: 0.7345 - val_accuracy: 0.3800 - val_loss: 1.7784\n",
            "Epoch 145/200\n",
            "\u001b[1m1/1\u001b[0m \u001b[32m━━━━━━━━━━━━━━━━━━━━\u001b[0m\u001b[37m\u001b[0m \u001b[1m1s\u001b[0m 544ms/step - AUC: 0.9112 - accuracy: 0.6480 - loss: 0.8268 - val_AUC: 0.7351 - val_accuracy: 0.4000 - val_loss: 1.7575\n",
            "Epoch 146/200\n",
            "\u001b[1m1/1\u001b[0m \u001b[32m━━━━━━━━━━━━━━━━━━━━\u001b[0m\u001b[37m\u001b[0m \u001b[1m1s\u001b[0m 630ms/step - AUC: 0.9102 - accuracy: 0.6888 - loss: 0.8446 - val_AUC: 0.7296 - val_accuracy: 0.4800 - val_loss: 1.8697\n",
            "Epoch 147/200\n",
            "\u001b[1m1/1\u001b[0m \u001b[32m━━━━━━━━━━━━━━━━━━━━\u001b[0m\u001b[37m\u001b[0m \u001b[1m1s\u001b[0m 534ms/step - AUC: 0.9012 - accuracy: 0.6582 - loss: 0.8806 - val_AUC: 0.7435 - val_accuracy: 0.4400 - val_loss: 1.7737\n",
            "Epoch 148/200\n",
            "\u001b[1m1/1\u001b[0m \u001b[32m━━━━━━━━━━━━━━━━━━━━\u001b[0m\u001b[37m\u001b[0m \u001b[1m1s\u001b[0m 552ms/step - AUC: 0.9156 - accuracy: 0.6990 - loss: 0.8341 - val_AUC: 0.7506 - val_accuracy: 0.4600 - val_loss: 1.7198\n",
            "Epoch 149/200\n",
            "\u001b[1m1/1\u001b[0m \u001b[32m━━━━━━━━━━━━━━━━━━━━\u001b[0m\u001b[37m\u001b[0m \u001b[1m1s\u001b[0m 621ms/step - AUC: 0.9335 - accuracy: 0.7194 - loss: 0.7583 - val_AUC: 0.7407 - val_accuracy: 0.4200 - val_loss: 1.7438\n",
            "Epoch 150/200\n",
            "\u001b[1m1/1\u001b[0m \u001b[32m━━━━━━━━━━━━━━━━━━━━\u001b[0m\u001b[37m\u001b[0m \u001b[1m1s\u001b[0m 610ms/step - AUC: 0.9260 - accuracy: 0.7041 - loss: 0.8242 - val_AUC: 0.7496 - val_accuracy: 0.4200 - val_loss: 1.6884\n",
            "Epoch 151/200\n",
            "\u001b[1m1/1\u001b[0m \u001b[32m━━━━━━━━━━━━━━━━━━━━\u001b[0m\u001b[37m\u001b[0m \u001b[1m1s\u001b[0m 543ms/step - AUC: 0.9466 - accuracy: 0.7398 - loss: 0.6912 - val_AUC: 0.7734 - val_accuracy: 0.4800 - val_loss: 1.5847\n",
            "Epoch 152/200\n",
            "\u001b[1m1/1\u001b[0m \u001b[32m━━━━━━━━━━━━━━━━━━━━\u001b[0m\u001b[37m\u001b[0m \u001b[1m1s\u001b[0m 536ms/step - AUC: 0.9332 - accuracy: 0.7092 - loss: 0.7599 - val_AUC: 0.7869 - val_accuracy: 0.5400 - val_loss: 1.5288\n",
            "Epoch 153/200\n",
            "\u001b[1m1/1\u001b[0m \u001b[32m━━━━━━━━━━━━━━━━━━━━\u001b[0m\u001b[37m\u001b[0m \u001b[1m1s\u001b[0m 600ms/step - AUC: 0.9285 - accuracy: 0.7092 - loss: 0.7497 - val_AUC: 0.7932 - val_accuracy: 0.5200 - val_loss: 1.5187\n",
            "Epoch 154/200\n",
            "\u001b[1m1/1\u001b[0m \u001b[32m━━━━━━━━━━━━━━━━━━━━\u001b[0m\u001b[37m\u001b[0m \u001b[1m1s\u001b[0m 578ms/step - AUC: 0.9306 - accuracy: 0.7296 - loss: 0.7360 - val_AUC: 0.7849 - val_accuracy: 0.5000 - val_loss: 1.5716\n",
            "Epoch 155/200\n",
            "\u001b[1m1/1\u001b[0m \u001b[32m━━━━━━━━━━━━━━━━━━━━\u001b[0m\u001b[37m\u001b[0m \u001b[1m1s\u001b[0m 612ms/step - AUC: 0.9362 - accuracy: 0.7041 - loss: 0.7083 - val_AUC: 0.7796 - val_accuracy: 0.5000 - val_loss: 1.6678\n",
            "Epoch 156/200\n",
            "\u001b[1m1/1\u001b[0m \u001b[32m━━━━━━━━━━━━━━━━━━━━\u001b[0m\u001b[37m\u001b[0m \u001b[1m1s\u001b[0m 585ms/step - AUC: 0.9266 - accuracy: 0.6990 - loss: 0.7682 - val_AUC: 0.7910 - val_accuracy: 0.5400 - val_loss: 1.5912\n",
            "Epoch 157/200\n",
            "\u001b[1m1/1\u001b[0m \u001b[32m━━━━━━━━━━━━━━━━━━━━\u001b[0m\u001b[37m\u001b[0m \u001b[1m1s\u001b[0m 602ms/step - AUC: 0.9345 - accuracy: 0.7041 - loss: 0.7211 - val_AUC: 0.7879 - val_accuracy: 0.5000 - val_loss: 1.6051\n",
            "Epoch 158/200\n",
            "\u001b[1m1/1\u001b[0m \u001b[32m━━━━━━━━━━━━━━━━━━━━\u001b[0m\u001b[37m\u001b[0m \u001b[1m1s\u001b[0m 550ms/step - AUC: 0.9519 - accuracy: 0.7398 - loss: 0.6213 - val_AUC: 0.7721 - val_accuracy: 0.4800 - val_loss: 1.6742\n",
            "Epoch 159/200\n",
            "\u001b[1m1/1\u001b[0m \u001b[32m━━━━━━━━━━━━━━━━━━━━\u001b[0m\u001b[37m\u001b[0m \u001b[1m1s\u001b[0m 920ms/step - AUC: 0.9415 - accuracy: 0.7551 - loss: 0.6869 - val_AUC: 0.7642 - val_accuracy: 0.4200 - val_loss: 1.7222\n",
            "Epoch 160/200\n",
            "\u001b[1m1/1\u001b[0m \u001b[32m━━━━━━━━━━━━━━━━━━━━\u001b[0m\u001b[37m\u001b[0m \u001b[1m1s\u001b[0m 909ms/step - AUC: 0.9483 - accuracy: 0.7449 - loss: 0.6375 - val_AUC: 0.7731 - val_accuracy: 0.4400 - val_loss: 1.6792\n",
            "Epoch 161/200\n",
            "\u001b[1m1/1\u001b[0m \u001b[32m━━━━━━━━━━━━━━━━━━━━\u001b[0m\u001b[37m\u001b[0m \u001b[1m1s\u001b[0m 1s/step - AUC: 0.9635 - accuracy: 0.8163 - loss: 0.5501 - val_AUC: 0.7757 - val_accuracy: 0.5200 - val_loss: 1.7407\n",
            "Epoch 162/200\n",
            "\u001b[1m1/1\u001b[0m \u001b[32m━━━━━━━━━━━━━━━━━━━━\u001b[0m\u001b[37m\u001b[0m \u001b[1m1s\u001b[0m 815ms/step - AUC: 0.9422 - accuracy: 0.7398 - loss: 0.6732 - val_AUC: 0.7613 - val_accuracy: 0.5200 - val_loss: 1.9785\n",
            "Epoch 163/200\n",
            "\u001b[1m1/1\u001b[0m \u001b[32m━━━━━━━━━━━━━━━━━━━━\u001b[0m\u001b[37m\u001b[0m \u001b[1m1s\u001b[0m 560ms/step - AUC: 0.9526 - accuracy: 0.7704 - loss: 0.6073 - val_AUC: 0.7563 - val_accuracy: 0.4800 - val_loss: 2.0245\n",
            "Epoch 164/200\n",
            "\u001b[1m1/1\u001b[0m \u001b[32m━━━━━━━━━━━━━━━━━━━━\u001b[0m\u001b[37m\u001b[0m \u001b[1m1s\u001b[0m 620ms/step - AUC: 0.9516 - accuracy: 0.7602 - loss: 0.6178 - val_AUC: 0.7583 - val_accuracy: 0.4400 - val_loss: 1.9687\n",
            "Epoch 165/200\n",
            "\u001b[1m1/1\u001b[0m \u001b[32m━━━━━━━━━━━━━━━━━━━━\u001b[0m\u001b[37m\u001b[0m \u001b[1m1s\u001b[0m 596ms/step - AUC: 0.9568 - accuracy: 0.7806 - loss: 0.5823 - val_AUC: 0.7674 - val_accuracy: 0.5200 - val_loss: 1.9572\n",
            "Epoch 166/200\n",
            "\u001b[1m1/1\u001b[0m \u001b[32m━━━━━━━━━━━━━━━━━━━━\u001b[0m\u001b[37m\u001b[0m \u001b[1m1s\u001b[0m 552ms/step - AUC: 0.9578 - accuracy: 0.7653 - loss: 0.5720 - val_AUC: 0.7640 - val_accuracy: 0.5000 - val_loss: 2.0109\n",
            "Epoch 167/200\n",
            "\u001b[1m1/1\u001b[0m \u001b[32m━━━━━━━━━━━━━━━━━━━━\u001b[0m\u001b[37m\u001b[0m \u001b[1m1s\u001b[0m 564ms/step - AUC: 0.9471 - accuracy: 0.7602 - loss: 0.6441 - val_AUC: 0.7513 - val_accuracy: 0.5200 - val_loss: 2.1258\n",
            "Epoch 168/200\n",
            "\u001b[1m1/1\u001b[0m \u001b[32m━━━━━━━━━━━━━━━━━━━━\u001b[0m\u001b[37m\u001b[0m \u001b[1m1s\u001b[0m 558ms/step - AUC: 0.9443 - accuracy: 0.7398 - loss: 0.6581 - val_AUC: 0.7328 - val_accuracy: 0.5200 - val_loss: 2.1110\n",
            "Epoch 169/200\n",
            "\u001b[1m1/1\u001b[0m \u001b[32m━━━━━━━━━━━━━━━━━━━━\u001b[0m\u001b[37m\u001b[0m \u001b[1m1s\u001b[0m 605ms/step - AUC: 0.9545 - accuracy: 0.7806 - loss: 0.5956 - val_AUC: 0.7247 - val_accuracy: 0.4600 - val_loss: 2.1754\n",
            "Epoch 170/200\n",
            "\u001b[1m1/1\u001b[0m \u001b[32m━━━━━━━━━━━━━━━━━━━━\u001b[0m\u001b[37m\u001b[0m \u001b[1m1s\u001b[0m 574ms/step - AUC: 0.9590 - accuracy: 0.7806 - loss: 0.5661 - val_AUC: 0.7172 - val_accuracy: 0.4200 - val_loss: 2.2615\n",
            "Epoch 171/200\n",
            "\u001b[1m1/1\u001b[0m \u001b[32m━━━━━━━━━━━━━━━━━━━━\u001b[0m\u001b[37m\u001b[0m \u001b[1m1s\u001b[0m 558ms/step - AUC: 0.9422 - accuracy: 0.7347 - loss: 0.6746 - val_AUC: 0.7371 - val_accuracy: 0.4400 - val_loss: 2.1508\n",
            "Epoch 172/200\n",
            "\u001b[1m1/1\u001b[0m \u001b[32m━━━━━━━━━━━━━━━━━━━━\u001b[0m\u001b[37m\u001b[0m \u001b[1m1s\u001b[0m 629ms/step - AUC: 0.9570 - accuracy: 0.7959 - loss: 0.5839 - val_AUC: 0.7540 - val_accuracy: 0.4800 - val_loss: 1.9646\n",
            "Epoch 173/200\n",
            "\u001b[1m1/1\u001b[0m \u001b[32m━━━━━━━━━━━━━━━━━━━━\u001b[0m\u001b[37m\u001b[0m \u001b[1m1s\u001b[0m 559ms/step - AUC: 0.9511 - accuracy: 0.7602 - loss: 0.6203 - val_AUC: 0.7456 - val_accuracy: 0.5000 - val_loss: 1.9702\n",
            "Epoch 174/200\n",
            "\u001b[1m1/1\u001b[0m \u001b[32m━━━━━━━━━━━━━━━━━━━━\u001b[0m\u001b[37m\u001b[0m \u001b[1m1s\u001b[0m 561ms/step - AUC: 0.9539 - accuracy: 0.7398 - loss: 0.6019 - val_AUC: 0.7513 - val_accuracy: 0.4600 - val_loss: 1.8475\n",
            "Epoch 175/200\n",
            "\u001b[1m1/1\u001b[0m \u001b[32m━━━━━━━━━━━━━━━━━━━━\u001b[0m\u001b[37m\u001b[0m \u001b[1m1s\u001b[0m 564ms/step - AUC: 0.9425 - accuracy: 0.7500 - loss: 0.6713 - val_AUC: 0.7757 - val_accuracy: 0.5000 - val_loss: 1.6785\n",
            "Epoch 176/200\n",
            "\u001b[1m1/1\u001b[0m \u001b[32m━━━━━━━━━━━━━━━━━━━━\u001b[0m\u001b[37m\u001b[0m \u001b[1m1s\u001b[0m 599ms/step - AUC: 0.9435 - accuracy: 0.7449 - loss: 0.6636 - val_AUC: 0.7767 - val_accuracy: 0.4600 - val_loss: 1.7351\n",
            "Epoch 177/200\n",
            "\u001b[1m1/1\u001b[0m \u001b[32m━━━━━━━━━━━━━━━━━━━━\u001b[0m\u001b[37m\u001b[0m \u001b[1m1s\u001b[0m 565ms/step - AUC: 0.9568 - accuracy: 0.7959 - loss: 0.5851 - val_AUC: 0.7518 - val_accuracy: 0.4400 - val_loss: 1.9785\n",
            "Epoch 178/200\n",
            "\u001b[1m1/1\u001b[0m \u001b[32m━━━━━━━━━━━━━━━━━━━━\u001b[0m\u001b[37m\u001b[0m \u001b[1m1s\u001b[0m 614ms/step - AUC: 0.9630 - accuracy: 0.8163 - loss: 0.5440 - val_AUC: 0.7508 - val_accuracy: 0.4800 - val_loss: 2.0404\n",
            "Epoch 179/200\n",
            "\u001b[1m1/1\u001b[0m \u001b[32m━━━━━━━━━━━━━━━━━━━━\u001b[0m\u001b[37m\u001b[0m \u001b[1m1s\u001b[0m 763ms/step - AUC: 0.9495 - accuracy: 0.7500 - loss: 0.6304 - val_AUC: 0.7643 - val_accuracy: 0.5200 - val_loss: 1.8887\n",
            "Epoch 180/200\n",
            "\u001b[1m1/1\u001b[0m \u001b[32m━━━━━━━━━━━━━━━━━━━━\u001b[0m\u001b[37m\u001b[0m \u001b[1m1s\u001b[0m 1s/step - AUC: 0.9698 - accuracy: 0.8061 - loss: 0.5087 - val_AUC: 0.7684 - val_accuracy: 0.5000 - val_loss: 1.8545\n",
            "Epoch 181/200\n",
            "\u001b[1m1/1\u001b[0m \u001b[32m━━━━━━━━━━━━━━━━━━━━\u001b[0m\u001b[37m\u001b[0m \u001b[1m1s\u001b[0m 910ms/step - AUC: 0.9430 - accuracy: 0.7602 - loss: 0.6642 - val_AUC: 0.7645 - val_accuracy: 0.4800 - val_loss: 1.8513\n",
            "Epoch 182/200\n",
            "\u001b[1m1/1\u001b[0m \u001b[32m━━━━━━━━━━━━━━━━━━━━\u001b[0m\u001b[37m\u001b[0m \u001b[1m1s\u001b[0m 953ms/step - AUC: 0.9618 - accuracy: 0.8214 - loss: 0.5526 - val_AUC: 0.7786 - val_accuracy: 0.5000 - val_loss: 1.8351\n",
            "Epoch 183/200\n",
            "\u001b[1m1/1\u001b[0m \u001b[32m━━━━━━━━━━━━━━━━━━━━\u001b[0m\u001b[37m\u001b[0m \u001b[1m1s\u001b[0m 560ms/step - AUC: 0.9639 - accuracy: 0.8112 - loss: 0.5297 - val_AUC: 0.7697 - val_accuracy: 0.5000 - val_loss: 1.9566\n",
            "Epoch 184/200\n",
            "\u001b[1m1/1\u001b[0m \u001b[32m━━━━━━━━━━━━━━━━━━━━\u001b[0m\u001b[37m\u001b[0m \u001b[1m1s\u001b[0m 635ms/step - AUC: 0.9639 - accuracy: 0.7755 - loss: 0.5281 - val_AUC: 0.7691 - val_accuracy: 0.4800 - val_loss: 1.9798\n",
            "Epoch 185/200\n",
            "\u001b[1m1/1\u001b[0m \u001b[32m━━━━━━━━━━━━━━━━━━━━\u001b[0m\u001b[37m\u001b[0m \u001b[1m1s\u001b[0m 545ms/step - AUC: 0.9611 - accuracy: 0.7959 - loss: 0.5539 - val_AUC: 0.7814 - val_accuracy: 0.4800 - val_loss: 1.9373\n",
            "Epoch 186/200\n",
            "\u001b[1m1/1\u001b[0m \u001b[32m━━━━━━━━━━━━━━━━━━━━\u001b[0m\u001b[37m\u001b[0m \u001b[1m1s\u001b[0m 659ms/step - AUC: 0.9602 - accuracy: 0.7857 - loss: 0.5608 - val_AUC: 0.7822 - val_accuracy: 0.4800 - val_loss: 1.9589\n",
            "Epoch 187/200\n",
            "\u001b[1m1/1\u001b[0m \u001b[32m━━━━━━━━━━━━━━━━━━━━\u001b[0m\u001b[37m\u001b[0m \u001b[1m1s\u001b[0m 549ms/step - AUC: 0.9615 - accuracy: 0.7959 - loss: 0.5508 - val_AUC: 0.7583 - val_accuracy: 0.5200 - val_loss: 2.2133\n",
            "Epoch 188/200\n",
            "\u001b[1m1/1\u001b[0m \u001b[32m━━━━━━━━━━━━━━━━━━━━\u001b[0m\u001b[37m\u001b[0m \u001b[1m1s\u001b[0m 552ms/step - AUC: 0.9668 - accuracy: 0.7908 - loss: 0.5069 - val_AUC: 0.7767 - val_accuracy: 0.5200 - val_loss: 2.0561\n",
            "Epoch 189/200\n",
            "\u001b[1m1/1\u001b[0m \u001b[32m━━━━━━━━━━━━━━━━━━━━\u001b[0m\u001b[37m\u001b[0m \u001b[1m1s\u001b[0m 546ms/step - AUC: 0.9672 - accuracy: 0.7908 - loss: 0.5062 - val_AUC: 0.7982 - val_accuracy: 0.5400 - val_loss: 1.8075\n",
            "Epoch 190/200\n",
            "\u001b[1m1/1\u001b[0m \u001b[32m━━━━━━━━━━━━━━━━━━━━\u001b[0m\u001b[37m\u001b[0m \u001b[1m1s\u001b[0m 566ms/step - AUC: 0.9586 - accuracy: 0.7500 - loss: 0.5682 - val_AUC: 0.7628 - val_accuracy: 0.4400 - val_loss: 1.9432\n",
            "Epoch 191/200\n",
            "\u001b[1m1/1\u001b[0m \u001b[32m━━━━━━━━━━━━━━━━━━━━\u001b[0m\u001b[37m\u001b[0m \u001b[1m1s\u001b[0m 608ms/step - AUC: 0.9486 - accuracy: 0.7500 - loss: 0.6367 - val_AUC: 0.7527 - val_accuracy: 0.4800 - val_loss: 2.0306\n",
            "Epoch 192/200\n",
            "\u001b[1m1/1\u001b[0m \u001b[32m━━━━━━━━━━━━━━━━━━━━\u001b[0m\u001b[37m\u001b[0m \u001b[1m1s\u001b[0m 582ms/step - AUC: 0.9592 - accuracy: 0.7959 - loss: 0.5625 - val_AUC: 0.7639 - val_accuracy: 0.5400 - val_loss: 2.0642\n",
            "Epoch 193/200\n",
            "\u001b[1m1/1\u001b[0m \u001b[32m━━━━━━━━━━━━━━━━━━━━\u001b[0m\u001b[37m\u001b[0m \u001b[1m1s\u001b[0m 562ms/step - AUC: 0.9805 - accuracy: 0.8418 - loss: 0.4144 - val_AUC: 0.7603 - val_accuracy: 0.5200 - val_loss: 2.2496\n",
            "Epoch 194/200\n",
            "\u001b[1m1/1\u001b[0m \u001b[32m━━━━━━━━━━━━━━━━━━━━\u001b[0m\u001b[37m\u001b[0m \u001b[1m1s\u001b[0m 550ms/step - AUC: 0.9690 - accuracy: 0.8010 - loss: 0.5022 - val_AUC: 0.7585 - val_accuracy: 0.5600 - val_loss: 2.3650\n",
            "Epoch 195/200\n",
            "\u001b[1m1/1\u001b[0m \u001b[32m━━━━━━━━━━━━━━━━━━━━\u001b[0m\u001b[37m\u001b[0m \u001b[1m1s\u001b[0m 560ms/step - AUC: 0.9604 - accuracy: 0.7602 - loss: 0.5563 - val_AUC: 0.7587 - val_accuracy: 0.5400 - val_loss: 2.3814\n",
            "Epoch 196/200\n",
            "\u001b[1m1/1\u001b[0m \u001b[32m━━━━━━━━━━━━━━━━━━━━\u001b[0m\u001b[37m\u001b[0m \u001b[1m1s\u001b[0m 596ms/step - AUC: 0.9519 - accuracy: 0.8010 - loss: 0.6096 - val_AUC: 0.7546 - val_accuracy: 0.5400 - val_loss: 2.3259\n",
            "Epoch 197/200\n",
            "\u001b[1m1/1\u001b[0m \u001b[32m━━━━━━━━━━━━━━━━━━━━\u001b[0m\u001b[37m\u001b[0m \u001b[1m1s\u001b[0m 634ms/step - AUC: 0.9654 - accuracy: 0.7908 - loss: 0.5240 - val_AUC: 0.7717 - val_accuracy: 0.4600 - val_loss: 2.0313\n",
            "Epoch 198/200\n",
            "\u001b[1m1/1\u001b[0m \u001b[32m━━━━━━━━━━━━━━━━━━━━\u001b[0m\u001b[37m\u001b[0m \u001b[1m1s\u001b[0m 558ms/step - AUC: 0.9705 - accuracy: 0.8316 - loss: 0.4790 - val_AUC: 0.8009 - val_accuracy: 0.5400 - val_loss: 1.8629\n",
            "Epoch 199/200\n",
            "\u001b[1m1/1\u001b[0m \u001b[32m━━━━━━━━━━━━━━━━━━━━\u001b[0m\u001b[37m\u001b[0m \u001b[1m1s\u001b[0m 846ms/step - AUC: 0.9528 - accuracy: 0.7551 - loss: 0.6100 - val_AUC: 0.7951 - val_accuracy: 0.5400 - val_loss: 1.8855\n",
            "Epoch 200/200\n",
            "\u001b[1m1/1\u001b[0m \u001b[32m━━━━━━━━━━━━━━━━━━━━\u001b[0m\u001b[37m\u001b[0m \u001b[1m1s\u001b[0m 1s/step - AUC: 0.9741 - accuracy: 0.8367 - loss: 0.4514 - val_AUC: 0.7880 - val_accuracy: 0.5400 - val_loss: 2.0620\n"
          ]
        },
        {
          "output_type": "execute_result",
          "data": {
            "text/plain": [
              "<keras.src.callbacks.history.History at 0x7c3a02f46d40>"
            ]
          },
          "metadata": {},
          "execution_count": 41
        }
      ]
    },
    {
      "cell_type": "code",
      "source": [
        "loss, acc, auc = model.evaluate(test_x, test_y, batch_size = 128)\n",
        "print(loss, acc, auc)"
      ],
      "metadata": {
        "colab": {
          "base_uri": "https://localhost:8080/"
        },
        "id": "sx9fksjyiysE",
        "outputId": "082ce369-f5c9-4317-9f01-b0deb5835733"
      },
      "execution_count": 25,
      "outputs": [
        {
          "output_type": "stream",
          "name": "stdout",
          "text": [
            "\u001b[1m1/1\u001b[0m \u001b[32m━━━━━━━━━━━━━━━━━━━━\u001b[0m\u001b[37m\u001b[0m \u001b[1m1s\u001b[0m 1s/step - AUC: 0.7439 - accuracy: 0.3571 - loss: 1.4750\n",
            "1.4750497341156006 0.3571428656578064 0.7439413070678711\n"
          ]
        }
      ]
    },
    {
      "cell_type": "code",
      "source": [
        "yfit = model.predict(test_x)\n",
        "print(yfit[0])\n",
        "y_pred = []\n",
        "for i in yfit:\n",
        "    i = list(i)\n",
        "    y_pred.append(i.index(max(i)))\n",
        "print(y_pred)\n",
        "\n",
        "y_real = []\n",
        "for i in test_y:\n",
        "    i = list(i)\n",
        "    y_real.append(i.index(max(i)))\n",
        "print(y_real)"
      ],
      "metadata": {
        "colab": {
          "base_uri": "https://localhost:8080/"
        },
        "id": "lNdt7ZiKjx7p",
        "outputId": "afda4191-b028-4193-897c-fb00220be45c"
      },
      "execution_count": 26,
      "outputs": [
        {
          "output_type": "stream",
          "name": "stdout",
          "text": [
            "\u001b[1m1/1\u001b[0m \u001b[32m━━━━━━━━━━━━━━━━━━━━\u001b[0m\u001b[37m\u001b[0m \u001b[1m0s\u001b[0m 337ms/step\n",
            "[0.21435012 0.23873983 0.10742968 0.08581746 0.3536629 ]\n",
            "[4, 2, 2, 2, 3, 4, 0, 2, 0, 3, 2, 2, 3, 1, 2, 3, 3, 4, 4, 4, 2, 3, 2, 3, 3, 2, 2, 3]\n",
            "[3, 2, 1, 2, 0, 0, 0, 1, 0, 1, 4, 2, 0, 0, 2, 2, 1, 4, 4, 0, 3, 4, 1, 0, 0, 1, 2, 3]\n"
          ]
        }
      ]
    },
    {
      "cell_type": "code",
      "source": [
        "from sklearn.metrics import confusion_matrix\n",
        "import seaborn as sns\n",
        "cm = confusion_matrix(y_real, y_pred)\n",
        "sns.heatmap(cm, annot = True, xticklabels= np.unique(names), yticklabels= np.unique(names))\n",
        "plt.xlabel(\"Predicted\")\n",
        "plt.ylabel(\"Real\")"
      ],
      "metadata": {
        "colab": {
          "base_uri": "https://localhost:8080/",
          "height": 589
        },
        "id": "4aK1Hb-oleZ5",
        "outputId": "86edc8f2-1f94-4fde-f4cb-811839010a8a"
      },
      "execution_count": 27,
      "outputs": [
        {
          "output_type": "execute_result",
          "data": {
            "text/plain": [
              "Text(50.58159722222221, 0.5, 'Real')"
            ]
          },
          "metadata": {},
          "execution_count": 27
        },
        {
          "output_type": "display_data",
          "data": {
            "text/plain": [
              "<Figure size 640x480 with 2 Axes>"
            ],
            "image/png": "[encoded data removed]"
          },
          "metadata": {}
        }
      ]
    }
  ]
}